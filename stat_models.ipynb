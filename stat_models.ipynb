{
 "cells": [
  {
   "cell_type": "code",
   "execution_count": 1,
   "id": "20b52443",
   "metadata": {
    "_cell_guid": "b1076dfc-b9ad-4769-8c92-a6c4dae69d19",
    "_uuid": "8f2839f25d086af736a60e9eeb907d3b93b6e0e5",
    "execution": {
     "iopub.execute_input": "2022-12-09T21:06:35.196282Z",
     "iopub.status.busy": "2022-12-09T21:06:35.194558Z",
     "iopub.status.idle": "2022-12-09T21:06:38.833835Z",
     "shell.execute_reply": "2022-12-09T21:06:38.832312Z"
    },
    "papermill": {
     "duration": 3.64983,
     "end_time": "2022-12-09T21:06:38.836102",
     "exception": false,
     "start_time": "2022-12-09T21:06:35.186272",
     "status": "completed"
    },
    "tags": []
   },
   "outputs": [
    {
     "name": "stderr",
     "output_type": "stream",
     "text": [
      "── \u001b[1mAttaching packages\u001b[22m ─────────────────────────────────────── tidyverse 1.3.2 ──\n",
      "\u001b[32m✔\u001b[39m \u001b[34mggplot2\u001b[39m 3.3.6      \u001b[32m✔\u001b[39m \u001b[34mpurrr  \u001b[39m 0.3.5 \n",
      "\u001b[32m✔\u001b[39m \u001b[34mtibble \u001b[39m 3.1.8      \u001b[32m✔\u001b[39m \u001b[34mdplyr  \u001b[39m 1.0.10\n",
      "\u001b[32m✔\u001b[39m \u001b[34mtidyr  \u001b[39m 1.2.1      \u001b[32m✔\u001b[39m \u001b[34mstringr\u001b[39m 1.4.1 \n",
      "\u001b[32m✔\u001b[39m \u001b[34mreadr  \u001b[39m 2.1.3      \u001b[32m✔\u001b[39m \u001b[34mforcats\u001b[39m 0.5.2 \n",
      "── \u001b[1mConflicts\u001b[22m ────────────────────────────────────────── tidyverse_conflicts() ──\n",
      "\u001b[31m✖\u001b[39m \u001b[34mdplyr\u001b[39m::\u001b[32mfilter()\u001b[39m masks \u001b[34mstats\u001b[39m::filter()\n",
      "\u001b[31m✖\u001b[39m \u001b[34mdplyr\u001b[39m::\u001b[32mlag()\u001b[39m    masks \u001b[34mstats\u001b[39m::lag()\n",
      "\n",
      "Attaching package: ‘MASS’\n",
      "\n",
      "\n",
      "The following object is masked from ‘package:dplyr’:\n",
      "\n",
      "    select\n",
      "\n",
      "\n",
      "\n",
      "Attaching package: ‘xgboost’\n",
      "\n",
      "\n",
      "The following object is masked from ‘package:dplyr’:\n",
      "\n",
      "    slice\n",
      "\n",
      "\n",
      "Loading required package: lattice\n",
      "\n",
      "\n",
      "Attaching package: ‘caret’\n",
      "\n",
      "\n",
      "The following objects are masked from ‘package:Metrics’:\n",
      "\n",
      "    precision, recall\n",
      "\n",
      "\n",
      "The following object is masked from ‘package:purrr’:\n",
      "\n",
      "    lift\n",
      "\n",
      "\n",
      "The following object is masked from ‘package:httr’:\n",
      "\n",
      "    progress\n",
      "\n",
      "\n",
      "Loading required package: Matrix\n",
      "\n",
      "\n",
      "Attaching package: ‘Matrix’\n",
      "\n",
      "\n",
      "The following objects are masked from ‘package:tidyr’:\n",
      "\n",
      "    expand, pack, unpack\n",
      "\n",
      "\n",
      "Loaded glmnet 4.1-4\n",
      "\n"
     ]
    }
   ],
   "source": [
    "\n",
    "library(tidyverse) # metapackage of all tidyverse packages\n",
    "library(ggplot2)\n",
    "library(dplyr)\n",
    "# install.packages(\"zipcodeR\")\n",
    "# library(zipcodeR)\n",
    "# list.files(path = \"../input\")\n",
    "library(MASS)\n",
    "library(caTools)\n",
    "library(Metrics)\n",
    "library(xgboost)\n",
    "# library(randomForest)\n",
    "# install.packages(\"BART\")\n",
    "# library(BART)\n",
    "# install.packages(\"neuralnet\")\n",
    "# library(neuralnet)\n",
    "library(caret)\n",
    "library(glmnet)\n",
    "# install.packages('bartMachine')\n",
    "# library(bartMachine)\n",
    "# install.packages(\"rpart\")\n",
    "library(rpart)\n",
    "library(rpart.plot)"
   ]
  },
  {
   "cell_type": "code",
   "execution_count": 2,
   "id": "7e82d992",
   "metadata": {
    "execution": {
     "iopub.execute_input": "2022-12-09T21:06:38.893339Z",
     "iopub.status.busy": "2022-12-09T21:06:38.849920Z",
     "iopub.status.idle": "2022-12-09T21:08:03.012737Z",
     "shell.execute_reply": "2022-12-09T21:08:03.011174Z"
    },
    "papermill": {
     "duration": 84.172615,
     "end_time": "2022-12-09T21:08:03.014943",
     "exception": false,
     "start_time": "2022-12-09T21:06:38.842328",
     "status": "completed"
    },
    "tags": []
   },
   "outputs": [],
   "source": [
    "train <- read.csv('/kaggle/input/train-test-stat/stat_5600_train_df.csv')\n",
    "test <- read.csv('/kaggle/input/train-test-stat/stat_5600_test_df.csv')"
   ]
  },
  {
   "cell_type": "code",
   "execution_count": 3,
   "id": "faf82f19",
   "metadata": {
    "execution": {
     "iopub.execute_input": "2022-12-09T21:08:03.032469Z",
     "iopub.status.busy": "2022-12-09T21:08:03.030870Z",
     "iopub.status.idle": "2022-12-09T21:08:03.060083Z",
     "shell.execute_reply": "2022-12-09T21:08:03.058842Z"
    },
    "papermill": {
     "duration": 0.039439,
     "end_time": "2022-12-09T21:08:03.062012",
     "exception": false,
     "start_time": "2022-12-09T21:08:03.022573",
     "status": "completed"
    },
    "tags": []
   },
   "outputs": [
    {
     "data": {
      "text/html": [
       "<table class=\"dataframe\">\n",
       "<caption>A data.frame: 6 × 20</caption>\n",
       "<thead>\n",
       "\t<tr><th></th><th scope=col>b2c_c2c</th><th scope=col>seller_id</th><th scope=col>declared_handling_days</th><th scope=col>shipment_method_id</th><th scope=col>shipping_fee</th><th scope=col>item_zip</th><th scope=col>buyer_zip</th><th scope=col>category_id</th><th scope=col>item_price</th><th scope=col>quantity</th><th scope=col>delivery_date</th><th scope=col>weight</th><th scope=col>package_size</th><th scope=col>carrier_average_estimate</th><th scope=col>zip_distance</th><th scope=col>acceptance_date</th><th scope=col>payment_date</th><th scope=col>time_to_process</th><th scope=col>days_to_deliver</th><th scope=col>acceptance_to_delivery</th></tr>\n",
       "\t<tr><th></th><th scope=col>&lt;int&gt;</th><th scope=col>&lt;dbl&gt;</th><th scope=col>&lt;int&gt;</th><th scope=col>&lt;int&gt;</th><th scope=col>&lt;dbl&gt;</th><th scope=col>&lt;int&gt;</th><th scope=col>&lt;int&gt;</th><th scope=col>&lt;int&gt;</th><th scope=col>&lt;dbl&gt;</th><th scope=col>&lt;int&gt;</th><th scope=col>&lt;chr&gt;</th><th scope=col>&lt;dbl&gt;</th><th scope=col>&lt;int&gt;</th><th scope=col>&lt;dbl&gt;</th><th scope=col>&lt;dbl&gt;</th><th scope=col>&lt;chr&gt;</th><th scope=col>&lt;chr&gt;</th><th scope=col>&lt;int&gt;</th><th scope=col>&lt;int&gt;</th><th scope=col>&lt;int&gt;</th></tr>\n",
       "</thead>\n",
       "<tbody>\n",
       "\t<tr><th scope=row>1</th><td>0</td><td>  4677</td><td>1</td><td>0</td><td>0.00</td><td>90703</td><td>55070</td><td> 1</td><td>25.00</td><td>1</td><td>2018-07-30</td><td>1.360776</td><td>6</td><td>4</td><td>1528.26</td><td>2018-07-27</td><td>2018-07-26</td><td>1</td><td>4</td><td>3</td></tr>\n",
       "\t<tr><th scope=row>2</th><td>0</td><td>   104</td><td>1</td><td>0</td><td>0.00</td><td>91304</td><td>60565</td><td>11</td><td> 5.70</td><td>1</td><td>2019-02-11</td><td>0.000000</td><td>6</td><td>4</td><td>1734.01</td><td>2019-02-08</td><td>2019-02-08</td><td>0</td><td>3</td><td>3</td></tr>\n",
       "\t<tr><th scope=row>3</th><td>0</td><td>340356</td><td>1</td><td>0</td><td>2.95</td><td>49735</td><td>29379</td><td> 1</td><td> 6.00</td><td>1</td><td>2018-04-25</td><td>0.453592</td><td>6</td><td>4</td><td> 728.16</td><td>2018-04-23</td><td>2018-04-22</td><td>1</td><td>3</td><td>2</td></tr>\n",
       "\t<tr><th scope=row>4</th><td>0</td><td>  2101</td><td>1</td><td>0</td><td>0.00</td><td>51031</td><td>28092</td><td>13</td><td> 9.90</td><td>1</td><td>2018-05-14</td><td>0.907184</td><td>6</td><td>4</td><td> 943.44</td><td>2018-05-08</td><td>2018-05-07</td><td>1</td><td>7</td><td>6</td></tr>\n",
       "\t<tr><th scope=row>5</th><td>0</td><td> 12924</td><td>1</td><td>0</td><td>0.00</td><td>77035</td><td>45373</td><td> 8</td><td>23.99</td><td>1</td><td>2018-08-09</td><td>0.453592</td><td>6</td><td>4</td><td> 957.60</td><td>2018-08-06</td><td>2018-08-06</td><td>0</td><td>3</td><td>3</td></tr>\n",
       "\t<tr><th scope=row>6</th><td>0</td><td>  5815</td><td>0</td><td>0</td><td>0.00</td><td>32605</td><td>33166</td><td>11</td><td>22.78</td><td>2</td><td>2019-05-22</td><td>3.628736</td><td>6</td><td>4</td><td> 294.74</td><td>2019-05-21</td><td>2019-05-20</td><td>1</td><td>2</td><td>1</td></tr>\n",
       "</tbody>\n",
       "</table>\n"
      ],
      "text/latex": [
       "A data.frame: 6 × 20\n",
       "\\begin{tabular}{r|llllllllllllllllllll}\n",
       "  & b2c\\_c2c & seller\\_id & declared\\_handling\\_days & shipment\\_method\\_id & shipping\\_fee & item\\_zip & buyer\\_zip & category\\_id & item\\_price & quantity & delivery\\_date & weight & package\\_size & carrier\\_average\\_estimate & zip\\_distance & acceptance\\_date & payment\\_date & time\\_to\\_process & days\\_to\\_deliver & acceptance\\_to\\_delivery\\\\\n",
       "  & <int> & <dbl> & <int> & <int> & <dbl> & <int> & <int> & <int> & <dbl> & <int> & <chr> & <dbl> & <int> & <dbl> & <dbl> & <chr> & <chr> & <int> & <int> & <int>\\\\\n",
       "\\hline\n",
       "\t1 & 0 &   4677 & 1 & 0 & 0.00 & 90703 & 55070 &  1 & 25.00 & 1 & 2018-07-30 & 1.360776 & 6 & 4 & 1528.26 & 2018-07-27 & 2018-07-26 & 1 & 4 & 3\\\\\n",
       "\t2 & 0 &    104 & 1 & 0 & 0.00 & 91304 & 60565 & 11 &  5.70 & 1 & 2019-02-11 & 0.000000 & 6 & 4 & 1734.01 & 2019-02-08 & 2019-02-08 & 0 & 3 & 3\\\\\n",
       "\t3 & 0 & 340356 & 1 & 0 & 2.95 & 49735 & 29379 &  1 &  6.00 & 1 & 2018-04-25 & 0.453592 & 6 & 4 &  728.16 & 2018-04-23 & 2018-04-22 & 1 & 3 & 2\\\\\n",
       "\t4 & 0 &   2101 & 1 & 0 & 0.00 & 51031 & 28092 & 13 &  9.90 & 1 & 2018-05-14 & 0.907184 & 6 & 4 &  943.44 & 2018-05-08 & 2018-05-07 & 1 & 7 & 6\\\\\n",
       "\t5 & 0 &  12924 & 1 & 0 & 0.00 & 77035 & 45373 &  8 & 23.99 & 1 & 2018-08-09 & 0.453592 & 6 & 4 &  957.60 & 2018-08-06 & 2018-08-06 & 0 & 3 & 3\\\\\n",
       "\t6 & 0 &   5815 & 0 & 0 & 0.00 & 32605 & 33166 & 11 & 22.78 & 2 & 2019-05-22 & 3.628736 & 6 & 4 &  294.74 & 2019-05-21 & 2019-05-20 & 1 & 2 & 1\\\\\n",
       "\\end{tabular}\n"
      ],
      "text/markdown": [
       "\n",
       "A data.frame: 6 × 20\n",
       "\n",
       "| <!--/--> | b2c_c2c &lt;int&gt; | seller_id &lt;dbl&gt; | declared_handling_days &lt;int&gt; | shipment_method_id &lt;int&gt; | shipping_fee &lt;dbl&gt; | item_zip &lt;int&gt; | buyer_zip &lt;int&gt; | category_id &lt;int&gt; | item_price &lt;dbl&gt; | quantity &lt;int&gt; | delivery_date &lt;chr&gt; | weight &lt;dbl&gt; | package_size &lt;int&gt; | carrier_average_estimate &lt;dbl&gt; | zip_distance &lt;dbl&gt; | acceptance_date &lt;chr&gt; | payment_date &lt;chr&gt; | time_to_process &lt;int&gt; | days_to_deliver &lt;int&gt; | acceptance_to_delivery &lt;int&gt; |\n",
       "|---|---|---|---|---|---|---|---|---|---|---|---|---|---|---|---|---|---|---|---|---|\n",
       "| 1 | 0 |   4677 | 1 | 0 | 0.00 | 90703 | 55070 |  1 | 25.00 | 1 | 2018-07-30 | 1.360776 | 6 | 4 | 1528.26 | 2018-07-27 | 2018-07-26 | 1 | 4 | 3 |\n",
       "| 2 | 0 |    104 | 1 | 0 | 0.00 | 91304 | 60565 | 11 |  5.70 | 1 | 2019-02-11 | 0.000000 | 6 | 4 | 1734.01 | 2019-02-08 | 2019-02-08 | 0 | 3 | 3 |\n",
       "| 3 | 0 | 340356 | 1 | 0 | 2.95 | 49735 | 29379 |  1 |  6.00 | 1 | 2018-04-25 | 0.453592 | 6 | 4 |  728.16 | 2018-04-23 | 2018-04-22 | 1 | 3 | 2 |\n",
       "| 4 | 0 |   2101 | 1 | 0 | 0.00 | 51031 | 28092 | 13 |  9.90 | 1 | 2018-05-14 | 0.907184 | 6 | 4 |  943.44 | 2018-05-08 | 2018-05-07 | 1 | 7 | 6 |\n",
       "| 5 | 0 |  12924 | 1 | 0 | 0.00 | 77035 | 45373 |  8 | 23.99 | 1 | 2018-08-09 | 0.453592 | 6 | 4 |  957.60 | 2018-08-06 | 2018-08-06 | 0 | 3 | 3 |\n",
       "| 6 | 0 |   5815 | 0 | 0 | 0.00 | 32605 | 33166 | 11 | 22.78 | 2 | 2019-05-22 | 3.628736 | 6 | 4 |  294.74 | 2019-05-21 | 2019-05-20 | 1 | 2 | 1 |\n",
       "\n"
      ],
      "text/plain": [
       "  b2c_c2c seller_id declared_handling_days shipment_method_id shipping_fee\n",
       "1 0         4677    1                      0                  0.00        \n",
       "2 0          104    1                      0                  0.00        \n",
       "3 0       340356    1                      0                  2.95        \n",
       "4 0         2101    1                      0                  0.00        \n",
       "5 0        12924    1                      0                  0.00        \n",
       "6 0         5815    0                      0                  0.00        \n",
       "  item_zip buyer_zip category_id item_price quantity delivery_date weight  \n",
       "1 90703    55070      1          25.00      1        2018-07-30    1.360776\n",
       "2 91304    60565     11           5.70      1        2019-02-11    0.000000\n",
       "3 49735    29379      1           6.00      1        2018-04-25    0.453592\n",
       "4 51031    28092     13           9.90      1        2018-05-14    0.907184\n",
       "5 77035    45373      8          23.99      1        2018-08-09    0.453592\n",
       "6 32605    33166     11          22.78      2        2019-05-22    3.628736\n",
       "  package_size carrier_average_estimate zip_distance acceptance_date\n",
       "1 6            4                        1528.26      2018-07-27     \n",
       "2 6            4                        1734.01      2019-02-08     \n",
       "3 6            4                         728.16      2018-04-23     \n",
       "4 6            4                         943.44      2018-05-08     \n",
       "5 6            4                         957.60      2018-08-06     \n",
       "6 6            4                         294.74      2019-05-21     \n",
       "  payment_date time_to_process days_to_deliver acceptance_to_delivery\n",
       "1 2018-07-26   1               4               3                     \n",
       "2 2019-02-08   0               3               3                     \n",
       "3 2018-04-22   1               3               2                     \n",
       "4 2018-05-07   1               7               6                     \n",
       "5 2018-08-06   0               3               3                     \n",
       "6 2019-05-20   1               2               1                     "
      ]
     },
     "metadata": {},
     "output_type": "display_data"
    }
   ],
   "source": [
    "head(train)"
   ]
  },
  {
   "cell_type": "code",
   "execution_count": 4,
   "id": "5bbfb68c",
   "metadata": {
    "execution": {
     "iopub.execute_input": "2022-12-09T21:08:03.078016Z",
     "iopub.status.busy": "2022-12-09T21:08:03.076758Z",
     "iopub.status.idle": "2022-12-09T21:08:03.258734Z",
     "shell.execute_reply": "2022-12-09T21:08:03.257321Z"
    },
    "papermill": {
     "duration": 0.192777,
     "end_time": "2022-12-09T21:08:03.261399",
     "exception": false,
     "start_time": "2022-12-09T21:08:03.068622",
     "status": "completed"
    },
    "tags": []
   },
   "outputs": [],
   "source": [
    "dev.new(width=5, height=4, unit=\"in\")\n",
    "plot(1:20)\n",
    "dev.new(width = 550, height = 330, unit = \"px\")\n",
    "plot(1:15)"
   ]
  },
  {
   "cell_type": "code",
   "execution_count": 5,
   "id": "a8b7621d",
   "metadata": {
    "execution": {
     "iopub.execute_input": "2022-12-09T21:08:03.277696Z",
     "iopub.status.busy": "2022-12-09T21:08:03.276392Z",
     "iopub.status.idle": "2022-12-09T21:08:03.305684Z",
     "shell.execute_reply": "2022-12-09T21:08:03.303721Z"
    },
    "papermill": {
     "duration": 0.040574,
     "end_time": "2022-12-09T21:08:03.308790",
     "exception": false,
     "start_time": "2022-12-09T21:08:03.268216",
     "status": "completed"
    },
    "tags": []
   },
   "outputs": [
    {
     "name": "stdout",
     "output_type": "stream",
     "text": [
      "'data.frame':\t5704023 obs. of  20 variables:\n",
      " $ b2c_c2c                 : int  0 0 0 0 0 0 0 0 0 0 ...\n",
      " $ seller_id               : num  4677 104 340356 2101 12924 ...\n",
      " $ declared_handling_days  : int  1 1 1 1 1 0 1 1 1 0 ...\n",
      " $ shipment_method_id      : int  0 0 0 0 0 0 0 1 5 0 ...\n",
      " $ shipping_fee            : num  0 0 2.95 0 0 0 4 0 0 0 ...\n",
      " $ item_zip                : int  90703 91304 49735 51031 77035 32605 20743 77471 83642 92532 ...\n",
      " $ buyer_zip               : int  55070 60565 29379 28092 45373 33166 95122 55420 77488 12508 ...\n",
      " $ category_id             : int  1 11 1 13 8 11 0 5 1 8 ...\n",
      " $ item_price              : num  25 5.7 6 9.9 24 ...\n",
      " $ quantity                : int  1 1 1 1 1 2 1 1 1 1 ...\n",
      " $ delivery_date           : chr  \"2018-07-30\" \"2019-02-11\" \"2018-04-25\" \"2018-05-14\" ...\n",
      " $ weight                  : num  1.361 0 0.454 0.907 0.454 ...\n",
      " $ package_size            : int  6 6 6 6 6 6 6 5 6 6 ...\n",
      " $ carrier_average_estimate: num  4 4 4 4 4 4 4 3.5 3.5 4 ...\n",
      " $ zip_distance            : num  1528 1734 728 943 958 ...\n",
      " $ acceptance_date         : chr  \"2018-07-27\" \"2019-02-08\" \"2018-04-23\" \"2018-05-08\" ...\n",
      " $ payment_date            : chr  \"2018-07-26\" \"2019-02-08\" \"2018-04-22\" \"2018-05-07\" ...\n",
      " $ time_to_process         : int  1 0 1 1 0 1 2 1 2 1 ...\n",
      " $ days_to_deliver         : int  4 3 3 7 3 2 4 3 5 4 ...\n",
      " $ acceptance_to_delivery  : int  3 3 2 6 3 1 2 2 3 3 ...\n"
     ]
    }
   ],
   "source": [
    "str(train)"
   ]
  },
  {
   "cell_type": "code",
   "execution_count": 6,
   "id": "4629e79e",
   "metadata": {
    "execution": {
     "iopub.execute_input": "2022-12-09T21:08:03.325267Z",
     "iopub.status.busy": "2022-12-09T21:08:03.323823Z",
     "iopub.status.idle": "2022-12-09T21:08:03.336311Z",
     "shell.execute_reply": "2022-12-09T21:08:03.334832Z"
    },
    "papermill": {
     "duration": 0.022488,
     "end_time": "2022-12-09T21:08:03.338076",
     "exception": false,
     "start_time": "2022-12-09T21:08:03.315588",
     "status": "completed"
    },
    "tags": []
   },
   "outputs": [],
   "source": [
    "\n",
    "#loss function\n",
    "evaluate_loss <- function(preds, actual) {\n",
    "    early_loss = 0\n",
    "    late_loss = 0\n",
    "    for (i in seq(1, length(preds))){\n",
    "        if (preds[i] < actual[i]){\n",
    "            #early shipment\n",
    "            early_loss = early_loss + (actual[i] - preds[i])\n",
    "        }\n",
    "        else if (preds[i] > actual[i]){\n",
    "        #late shipment\n",
    "            late_loss = late_loss + (preds[i] - actual[i])}\n",
    "    loss = (1/length(preds)) * ((0.4 * early_loss) + (0.6 * late_loss))\n",
    "    }\n",
    "    return(loss)\n",
    "}"
   ]
  },
  {
   "cell_type": "markdown",
   "id": "f5e956ca",
   "metadata": {
    "papermill": {
     "duration": 0.006403,
     "end_time": "2022-12-09T21:08:03.351107",
     "exception": false,
     "start_time": "2022-12-09T21:08:03.344704",
     "status": "completed"
    },
    "tags": []
   },
   "source": [
    "# Multiple Linear Regression"
   ]
  },
  {
   "cell_type": "code",
   "execution_count": 7,
   "id": "91ce9fcb",
   "metadata": {
    "execution": {
     "iopub.execute_input": "2022-12-09T21:08:03.367879Z",
     "iopub.status.busy": "2022-12-09T21:08:03.366513Z",
     "iopub.status.idle": "2022-12-09T21:08:07.723935Z",
     "shell.execute_reply": "2022-12-09T21:08:07.721925Z"
    },
    "papermill": {
     "duration": 4.368277,
     "end_time": "2022-12-09T21:08:07.726119",
     "exception": false,
     "start_time": "2022-12-09T21:08:03.357842",
     "status": "completed"
    },
    "tags": []
   },
   "outputs": [],
   "source": [
    "linear_model = lm (days_to_deliver ~ b2c_c2c+ declared_handling_days + shipment_method_id+shipping_fee+item_zip\n",
    "                   +buyer_zip+category_id+item_price+quantity+ weight+package_size+carrier_average_estimate+zip_distance+time_to_process, data=train)"
   ]
  },
  {
   "cell_type": "code",
   "execution_count": 8,
   "id": "30cede73",
   "metadata": {
    "execution": {
     "iopub.execute_input": "2022-12-09T21:08:07.747115Z",
     "iopub.status.busy": "2022-12-09T21:08:07.745516Z",
     "iopub.status.idle": "2022-12-09T21:08:11.426752Z",
     "shell.execute_reply": "2022-12-09T21:08:11.425401Z"
    },
    "papermill": {
     "duration": 3.693786,
     "end_time": "2022-12-09T21:08:11.428720",
     "exception": false,
     "start_time": "2022-12-09T21:08:07.734934",
     "status": "completed"
    },
    "tags": []
   },
   "outputs": [
    {
     "data": {
      "text/plain": [
       "\n",
       "Call:\n",
       "lm(formula = days_to_deliver ~ b2c_c2c + declared_handling_days + \n",
       "    shipment_method_id + shipping_fee + item_zip + buyer_zip + \n",
       "    category_id + item_price + quantity + weight + package_size + \n",
       "    carrier_average_estimate + zip_distance + time_to_process, \n",
       "    data = train)\n",
       "\n",
       "Residuals:\n",
       "    Min      1Q  Median      3Q     Max \n",
       "-92.316  -0.859  -0.273   0.465  76.050 \n",
       "\n",
       "Coefficients:\n",
       "                           Estimate Std. Error  t value Pr(>|t|)    \n",
       "(Intercept)               2.216e-01  7.936e-03   27.929  < 2e-16 ***\n",
       "b2c_c2c                  -7.593e-03  1.585e-03   -4.792 1.66e-06 ***\n",
       "declared_handling_days    5.180e-02  4.957e-04  104.497  < 2e-16 ***\n",
       "shipment_method_id        2.122e-02  4.220e-04   50.270  < 2e-16 ***\n",
       "shipping_fee             -4.749e-03  1.388e-04  -34.220  < 2e-16 ***\n",
       "item_zip                  4.180e-07  2.393e-08   17.467  < 2e-16 ***\n",
       "buyer_zip                -8.680e-07  2.462e-08  -35.255  < 2e-16 ***\n",
       "category_id               1.346e-02  1.050e-04  128.253  < 2e-16 ***\n",
       "item_price               -1.827e-04  6.573e-06  -27.795  < 2e-16 ***\n",
       "quantity                 -9.609e-03  7.052e-04  -13.626  < 2e-16 ***\n",
       "weight                    1.390e-04  1.919e-05    7.243 4.38e-13 ***\n",
       "package_size             -2.973e-02  9.121e-04  -32.590  < 2e-16 ***\n",
       "carrier_average_estimate  6.426e-01  1.309e-03  490.969  < 2e-16 ***\n",
       "zip_distance              3.226e-04  9.754e-07  330.713  < 2e-16 ***\n",
       "time_to_process           9.218e-01  2.653e-04 3475.105  < 2e-16 ***\n",
       "---\n",
       "Signif. codes:  0 ‘***’ 0.001 ‘**’ 0.01 ‘*’ 0.05 ‘.’ 0.1 ‘ ’ 1\n",
       "\n",
       "Residual standard error: 1.619 on 5704008 degrees of freedom\n",
       "Multiple R-squared:  0.7134,\tAdjusted R-squared:  0.7134 \n",
       "F-statistic: 1.014e+06 on 14 and 5704008 DF,  p-value: < 2.2e-16\n"
      ]
     },
     "metadata": {},
     "output_type": "display_data"
    }
   ],
   "source": [
    "summary(linear_model)"
   ]
  },
  {
   "cell_type": "code",
   "execution_count": 9,
   "id": "ae02023a",
   "metadata": {
    "execution": {
     "iopub.execute_input": "2022-12-09T21:08:11.451488Z",
     "iopub.status.busy": "2022-12-09T21:08:11.450254Z",
     "iopub.status.idle": "2022-12-09T21:08:11.817130Z",
     "shell.execute_reply": "2022-12-09T21:08:11.815174Z"
    },
    "papermill": {
     "duration": 0.384188,
     "end_time": "2022-12-09T21:08:11.819410",
     "exception": false,
     "start_time": "2022-12-09T21:08:11.435222",
     "status": "completed"
    },
    "tags": []
   },
   "outputs": [],
   "source": [
    "linear_model_preds =predict(linear_model, test)"
   ]
  },
  {
   "cell_type": "code",
   "execution_count": 10,
   "id": "295cc2fb",
   "metadata": {
    "execution": {
     "iopub.execute_input": "2022-12-09T21:08:11.840732Z",
     "iopub.status.busy": "2022-12-09T21:08:11.839153Z",
     "iopub.status.idle": "2022-12-09T21:08:11.882488Z",
     "shell.execute_reply": "2022-12-09T21:08:11.879279Z"
    },
    "papermill": {
     "duration": 0.056526,
     "end_time": "2022-12-09T21:08:11.884937",
     "exception": false,
     "start_time": "2022-12-09T21:08:11.828411",
     "status": "completed"
    },
    "tags": []
   },
   "outputs": [
    {
     "name": "stdout",
     "output_type": "stream",
     "text": [
      "[1] 1.619933\n"
     ]
    }
   ],
   "source": [
    "rmse_linear_model = rmse(test$days_to_deliver,linear_model_preds )\n",
    "print(rmse_linear_model)"
   ]
  },
  {
   "cell_type": "code",
   "execution_count": 11,
   "id": "1e3977ae",
   "metadata": {
    "execution": {
     "iopub.execute_input": "2022-12-09T21:08:11.906934Z",
     "iopub.status.busy": "2022-12-09T21:08:11.905391Z",
     "iopub.status.idle": "2022-12-09T21:08:19.939561Z",
     "shell.execute_reply": "2022-12-09T21:08:19.938110Z"
    },
    "papermill": {
     "duration": 8.046816,
     "end_time": "2022-12-09T21:08:19.941656",
     "exception": false,
     "start_time": "2022-12-09T21:08:11.894840",
     "status": "completed"
    },
    "tags": []
   },
   "outputs": [
    {
     "data": {
      "text/html": [
       "<strong>2:</strong> 0.489647467797008"
      ],
      "text/latex": [
       "\\textbf{2:} 0.489647467797008"
      ],
      "text/markdown": [
       "**2:** 0.489647467797008"
      ],
      "text/plain": [
       "        2 \n",
       "0.4896475 "
      ]
     },
     "metadata": {},
     "output_type": "display_data"
    }
   ],
   "source": [
    "evaluate_loss(round(linear_model_preds,0), test$days_to_deliver)\n"
   ]
  },
  {
   "cell_type": "markdown",
   "id": "f3e5ed63",
   "metadata": {
    "papermill": {
     "duration": 0.007255,
     "end_time": "2022-12-09T21:08:19.955994",
     "exception": false,
     "start_time": "2022-12-09T21:08:19.948739",
     "status": "completed"
    },
    "tags": []
   },
   "source": [
    "# XG boost model"
   ]
  },
  {
   "cell_type": "code",
   "execution_count": 12,
   "id": "86fa3907",
   "metadata": {
    "execution": {
     "iopub.execute_input": "2022-12-09T21:08:19.972886Z",
     "iopub.status.busy": "2022-12-09T21:08:19.971656Z",
     "iopub.status.idle": "2022-12-09T21:08:23.293834Z",
     "shell.execute_reply": "2022-12-09T21:08:23.292311Z"
    },
    "papermill": {
     "duration": 3.332739,
     "end_time": "2022-12-09T21:08:23.295707",
     "exception": false,
     "start_time": "2022-12-09T21:08:19.962968",
     "status": "completed"
    },
    "tags": []
   },
   "outputs": [],
   "source": [
    "\n",
    "#define predictor and response variables in training set\n",
    "train_x = data.matrix(train[, c(-11,-16,-17,-19,-20)])\n",
    "train_y = train[,19]\n",
    "\n",
    "#define predictor and response variables in testing set\n",
    "test_x = data.matrix(test[, c(-11,-16,-17,-19,-20)])\n",
    "test_y = test[, 19]\n",
    "\n",
    "#define final training and testing sets\n",
    "xgb_train = xgb.DMatrix(data = train_x, label = train_y)\n",
    "xgb_test = xgb.DMatrix(data = test_x, label = test_y)"
   ]
  },
  {
   "cell_type": "code",
   "execution_count": 13,
   "id": "b16268f9",
   "metadata": {
    "execution": {
     "iopub.execute_input": "2022-12-09T21:08:23.312437Z",
     "iopub.status.busy": "2022-12-09T21:08:23.311111Z",
     "iopub.status.idle": "2022-12-09T21:08:44.841256Z",
     "shell.execute_reply": "2022-12-09T21:08:44.838644Z"
    },
    "papermill": {
     "duration": 21.54119,
     "end_time": "2022-12-09T21:08:44.843791",
     "exception": false,
     "start_time": "2022-12-09T21:08:23.302601",
     "status": "completed"
    },
    "tags": []
   },
   "outputs": [
    {
     "name": "stdout",
     "output_type": "stream",
     "text": [
      "[1]\ttrain-rmse:4.713490\ttest-rmse:4.713030 \n",
      "[2]\ttrain-rmse:4.304879\ttest-rmse:4.304422 \n",
      "[3]\ttrain-rmse:3.942361\ttest-rmse:3.941937 \n",
      "[4]\ttrain-rmse:3.621455\ttest-rmse:3.620966 \n",
      "[5]\ttrain-rmse:3.338526\ttest-rmse:3.338420 \n",
      "[6]\ttrain-rmse:3.090012\ttest-rmse:3.090187 \n",
      "[7]\ttrain-rmse:2.872045\ttest-rmse:2.872339 \n",
      "[8]\ttrain-rmse:2.680177\ttest-rmse:2.680805 \n",
      "[9]\ttrain-rmse:2.514930\ttest-rmse:2.515797 \n",
      "[10]\ttrain-rmse:2.372085\ttest-rmse:2.373371 \n",
      "[11]\ttrain-rmse:2.247403\ttest-rmse:2.249023 \n",
      "[12]\ttrain-rmse:2.140560\ttest-rmse:2.142447 \n",
      "[13]\ttrain-rmse:2.049502\ttest-rmse:2.051759 \n",
      "[14]\ttrain-rmse:1.972329\ttest-rmse:1.974896 \n",
      "[15]\ttrain-rmse:1.906533\ttest-rmse:1.909567 \n",
      "[16]\ttrain-rmse:1.851778\ttest-rmse:1.855119 \n",
      "[17]\ttrain-rmse:1.805056\ttest-rmse:1.808729 \n",
      "[18]\ttrain-rmse:1.765789\ttest-rmse:1.769625 \n",
      "[19]\ttrain-rmse:1.732547\ttest-rmse:1.736687 \n",
      "[20]\ttrain-rmse:1.704226\ttest-rmse:1.708567 \n"
     ]
    }
   ],
   "source": [
    "#define watchlist\n",
    "watchlist = list(train=xgb_train, test=xgb_test)\n",
    "\n",
    "#fit XGBoost model and display training and testing data at each round\n",
    "Xgb_model = xgb.train(data = xgb_train, max.depth = 4, watchlist=watchlist, nrounds = 20, eta=0.1)"
   ]
  },
  {
   "cell_type": "code",
   "execution_count": 14,
   "id": "197c974a",
   "metadata": {
    "execution": {
     "iopub.execute_input": "2022-12-09T21:08:44.860830Z",
     "iopub.status.busy": "2022-12-09T21:08:44.859553Z",
     "iopub.status.idle": "2022-12-09T21:08:45.891386Z",
     "shell.execute_reply": "2022-12-09T21:08:45.889700Z"
    },
    "papermill": {
     "duration": 1.042596,
     "end_time": "2022-12-09T21:08:45.893719",
     "exception": false,
     "start_time": "2022-12-09T21:08:44.851123",
     "status": "completed"
    },
    "tags": []
   },
   "outputs": [],
   "source": [
    "xgb_model_preds <- predict(Xgb_model, test_x)"
   ]
  },
  {
   "cell_type": "code",
   "execution_count": 15,
   "id": "ba059e7c",
   "metadata": {
    "execution": {
     "iopub.execute_input": "2022-12-09T21:08:45.909974Z",
     "iopub.status.busy": "2022-12-09T21:08:45.908724Z",
     "iopub.status.idle": "2022-12-09T21:08:47.042901Z",
     "shell.execute_reply": "2022-12-09T21:08:47.040866Z"
    },
    "papermill": {
     "duration": 1.145113,
     "end_time": "2022-12-09T21:08:47.045771",
     "exception": false,
     "start_time": "2022-12-09T21:08:45.900658",
     "status": "completed"
    },
    "tags": []
   },
   "outputs": [
    {
     "data": {
      "text/html": [
       "0.437096324876635"
      ],
      "text/latex": [
       "0.437096324876635"
      ],
      "text/markdown": [
       "0.437096324876635"
      ],
      "text/plain": [
       "[1] 0.4370963"
      ]
     },
     "metadata": {},
     "output_type": "display_data"
    }
   ],
   "source": [
    "evaluate_loss(round(xgb_model_preds,0), test$days_to_deliver)"
   ]
  },
  {
   "cell_type": "code",
   "execution_count": 16,
   "id": "074dbcf3",
   "metadata": {
    "execution": {
     "iopub.execute_input": "2022-12-09T21:08:47.065741Z",
     "iopub.status.busy": "2022-12-09T21:08:47.064390Z",
     "iopub.status.idle": "2022-12-09T21:08:47.104777Z",
     "shell.execute_reply": "2022-12-09T21:08:47.103344Z"
    },
    "papermill": {
     "duration": 0.053846,
     "end_time": "2022-12-09T21:08:47.106911",
     "exception": false,
     "start_time": "2022-12-09T21:08:47.053065",
     "status": "completed"
    },
    "tags": []
   },
   "outputs": [
    {
     "data": {
      "text/html": [
       "<table class=\"dataframe\">\n",
       "<caption>A data.table: 9 × 4</caption>\n",
       "<thead>\n",
       "\t<tr><th scope=col>Feature</th><th scope=col>Gain</th><th scope=col>Cover</th><th scope=col>Frequency</th></tr>\n",
       "\t<tr><th scope=col>&lt;chr&gt;</th><th scope=col>&lt;dbl&gt;</th><th scope=col>&lt;dbl&gt;</th><th scope=col>&lt;dbl&gt;</th></tr>\n",
       "</thead>\n",
       "<tbody>\n",
       "\t<tr><td>time_to_process         </td><td>9.548387e-01</td><td>7.072311e-01</td><td>0.616666667</td></tr>\n",
       "\t<tr><td>carrier_average_estimate</td><td>2.340397e-02</td><td>1.328038e-01</td><td>0.110000000</td></tr>\n",
       "\t<tr><td>zip_distance            </td><td>1.424457e-02</td><td>1.238736e-01</td><td>0.133333333</td></tr>\n",
       "\t<tr><td>seller_id               </td><td>4.792382e-03</td><td>1.745907e-02</td><td>0.080000000</td></tr>\n",
       "\t<tr><td>shipment_method_id      </td><td>1.675396e-03</td><td>1.795486e-02</td><td>0.010000000</td></tr>\n",
       "\t<tr><td>declared_handling_days  </td><td>7.399077e-04</td><td>4.612030e-04</td><td>0.036666667</td></tr>\n",
       "\t<tr><td>item_zip                </td><td>1.566837e-04</td><td>6.683879e-07</td><td>0.003333333</td></tr>\n",
       "\t<tr><td>package_size            </td><td>7.848858e-05</td><td>2.131741e-04</td><td>0.006666667</td></tr>\n",
       "\t<tr><td>item_price              </td><td>6.995132e-05</td><td>2.559597e-06</td><td>0.003333333</td></tr>\n",
       "</tbody>\n",
       "</table>\n"
      ],
      "text/latex": [
       "A data.table: 9 × 4\n",
       "\\begin{tabular}{llll}\n",
       " Feature & Gain & Cover & Frequency\\\\\n",
       " <chr> & <dbl> & <dbl> & <dbl>\\\\\n",
       "\\hline\n",
       "\t time\\_to\\_process          & 9.548387e-01 & 7.072311e-01 & 0.616666667\\\\\n",
       "\t carrier\\_average\\_estimate & 2.340397e-02 & 1.328038e-01 & 0.110000000\\\\\n",
       "\t zip\\_distance             & 1.424457e-02 & 1.238736e-01 & 0.133333333\\\\\n",
       "\t seller\\_id                & 4.792382e-03 & 1.745907e-02 & 0.080000000\\\\\n",
       "\t shipment\\_method\\_id       & 1.675396e-03 & 1.795486e-02 & 0.010000000\\\\\n",
       "\t declared\\_handling\\_days   & 7.399077e-04 & 4.612030e-04 & 0.036666667\\\\\n",
       "\t item\\_zip                 & 1.566837e-04 & 6.683879e-07 & 0.003333333\\\\\n",
       "\t package\\_size             & 7.848858e-05 & 2.131741e-04 & 0.006666667\\\\\n",
       "\t item\\_price               & 6.995132e-05 & 2.559597e-06 & 0.003333333\\\\\n",
       "\\end{tabular}\n"
      ],
      "text/markdown": [
       "\n",
       "A data.table: 9 × 4\n",
       "\n",
       "| Feature &lt;chr&gt; | Gain &lt;dbl&gt; | Cover &lt;dbl&gt; | Frequency &lt;dbl&gt; |\n",
       "|---|---|---|---|\n",
       "| time_to_process          | 9.548387e-01 | 7.072311e-01 | 0.616666667 |\n",
       "| carrier_average_estimate | 2.340397e-02 | 1.328038e-01 | 0.110000000 |\n",
       "| zip_distance             | 1.424457e-02 | 1.238736e-01 | 0.133333333 |\n",
       "| seller_id                | 4.792382e-03 | 1.745907e-02 | 0.080000000 |\n",
       "| shipment_method_id       | 1.675396e-03 | 1.795486e-02 | 0.010000000 |\n",
       "| declared_handling_days   | 7.399077e-04 | 4.612030e-04 | 0.036666667 |\n",
       "| item_zip                 | 1.566837e-04 | 6.683879e-07 | 0.003333333 |\n",
       "| package_size             | 7.848858e-05 | 2.131741e-04 | 0.006666667 |\n",
       "| item_price               | 6.995132e-05 | 2.559597e-06 | 0.003333333 |\n",
       "\n"
      ],
      "text/plain": [
       "  Feature                  Gain         Cover        Frequency  \n",
       "1 time_to_process          9.548387e-01 7.072311e-01 0.616666667\n",
       "2 carrier_average_estimate 2.340397e-02 1.328038e-01 0.110000000\n",
       "3 zip_distance             1.424457e-02 1.238736e-01 0.133333333\n",
       "4 seller_id                4.792382e-03 1.745907e-02 0.080000000\n",
       "5 shipment_method_id       1.675396e-03 1.795486e-02 0.010000000\n",
       "6 declared_handling_days   7.399077e-04 4.612030e-04 0.036666667\n",
       "7 item_zip                 1.566837e-04 6.683879e-07 0.003333333\n",
       "8 package_size             7.848858e-05 2.131741e-04 0.006666667\n",
       "9 item_price               6.995132e-05 2.559597e-06 0.003333333"
      ]
     },
     "metadata": {},
     "output_type": "display_data"
    }
   ],
   "source": [
    "importance_matrix = xgb.importance(colnames(xgb_train), model = Xgb_model)\n",
    "importance_matrix"
   ]
  },
  {
   "cell_type": "code",
   "execution_count": 17,
   "id": "5fa65de6",
   "metadata": {
    "execution": {
     "iopub.execute_input": "2022-12-09T21:08:47.124576Z",
     "iopub.status.busy": "2022-12-09T21:08:47.123307Z",
     "iopub.status.idle": "2022-12-09T21:08:47.133077Z",
     "shell.execute_reply": "2022-12-09T21:08:47.131605Z"
    },
    "papermill": {
     "duration": 0.020402,
     "end_time": "2022-12-09T21:08:47.134873",
     "exception": false,
     "start_time": "2022-12-09T21:08:47.114471",
     "status": "completed"
    },
    "tags": []
   },
   "outputs": [],
   "source": [
    "# write.csv(importance_matrix,\"/kaggle/working/xgb_importance.csv\", row.names = TRUE)"
   ]
  },
  {
   "cell_type": "code",
   "execution_count": 18,
   "id": "3a9680a0",
   "metadata": {
    "execution": {
     "iopub.execute_input": "2022-12-09T21:08:47.152409Z",
     "iopub.status.busy": "2022-12-09T21:08:47.151006Z",
     "iopub.status.idle": "2022-12-09T21:08:47.282407Z",
     "shell.execute_reply": "2022-12-09T21:08:47.280999Z"
    },
    "papermill": {
     "duration": 0.142599,
     "end_time": "2022-12-09T21:08:47.284722",
     "exception": false,
     "start_time": "2022-12-09T21:08:47.142123",
     "status": "completed"
    },
    "tags": []
   },
   "outputs": [
    {
     "data": {
      "image/png": "[encoded data removed]"
     },
     "metadata": {
      "image/png": {
       "height": 420,
       "width": 420
      }
     },
     "output_type": "display_data"
    }
   ],
   "source": [
    "xgb.plot.importance(importance_matrix[1:6,])"
   ]
  },
  {
   "cell_type": "markdown",
   "id": "9748a5f3",
   "metadata": {
    "papermill": {
     "duration": 0.007725,
     "end_time": "2022-12-09T21:08:47.300207",
     "exception": false,
     "start_time": "2022-12-09T21:08:47.292482",
     "status": "completed"
    },
    "tags": []
   },
   "source": [
    "# Decision Tree\n"
   ]
  },
  {
   "cell_type": "code",
   "execution_count": 19,
   "id": "af7f4f58",
   "metadata": {
    "execution": {
     "iopub.execute_input": "2022-12-09T21:08:47.318188Z",
     "iopub.status.busy": "2022-12-09T21:08:47.316842Z",
     "iopub.status.idle": "2022-12-09T21:17:56.174721Z",
     "shell.execute_reply": "2022-12-09T21:17:56.173164Z"
    },
    "papermill": {
     "duration": 548.868672,
     "end_time": "2022-12-09T21:17:56.176517",
     "exception": false,
     "start_time": "2022-12-09T21:08:47.307845",
     "status": "completed"
    },
    "tags": []
   },
   "outputs": [],
   "source": [
    "# Create decision tree using regression\n",
    "dt_model <- rpart(days_to_deliver ~ b2c_c2c+ declared_handling_days + shipment_method_id+shipping_fee+item_zip\n",
    "            +buyer_zip+category_id+item_price+quantity+ weight+package_size+carrier_average_estimate+zip_distance+time_to_process, data = train)\n"
   ]
  },
  {
   "cell_type": "code",
   "execution_count": 20,
   "id": "de6f568a",
   "metadata": {
    "execution": {
     "iopub.execute_input": "2022-12-09T21:17:56.220895Z",
     "iopub.status.busy": "2022-12-09T21:17:56.219676Z",
     "iopub.status.idle": "2022-12-09T21:18:11.353895Z",
     "shell.execute_reply": "2022-12-09T21:18:11.352427Z"
    },
    "papermill": {
     "duration": 15.171837,
     "end_time": "2022-12-09T21:18:11.355956",
     "exception": false,
     "start_time": "2022-12-09T21:17:56.184119",
     "status": "completed"
    },
    "tags": []
   },
   "outputs": [
    {
     "data": {
      "image/png": "[encoded data removed]"
     },
     "metadata": {
      "image/png": {
       "height": 420,
       "width": 420
      }
     },
     "output_type": "display_data"
    }
   ],
   "source": [
    "rpart.plot(dt_model)"
   ]
  },
  {
   "cell_type": "code",
   "execution_count": 21,
   "id": "2a78ff9a",
   "metadata": {
    "execution": {
     "iopub.execute_input": "2022-12-09T21:18:11.376843Z",
     "iopub.status.busy": "2022-12-09T21:18:11.375556Z",
     "iopub.status.idle": "2022-12-09T21:18:12.589316Z",
     "shell.execute_reply": "2022-12-09T21:18:12.587798Z"
    },
    "papermill": {
     "duration": 1.226345,
     "end_time": "2022-12-09T21:18:12.591148",
     "exception": false,
     "start_time": "2022-12-09T21:18:11.364803",
     "status": "completed"
    },
    "tags": []
   },
   "outputs": [],
   "source": [
    "dt_preds= predict(dt_model,test)"
   ]
  },
  {
   "cell_type": "code",
   "execution_count": 22,
   "id": "4bfee5bd",
   "metadata": {
    "execution": {
     "iopub.execute_input": "2022-12-09T21:18:12.610563Z",
     "iopub.status.busy": "2022-12-09T21:18:12.609333Z",
     "iopub.status.idle": "2022-12-09T21:18:12.641813Z",
     "shell.execute_reply": "2022-12-09T21:18:12.640443Z"
    },
    "papermill": {
     "duration": 0.044223,
     "end_time": "2022-12-09T21:18:12.643792",
     "exception": false,
     "start_time": "2022-12-09T21:18:12.599569",
     "status": "completed"
    },
    "tags": []
   },
   "outputs": [
    {
     "name": "stdout",
     "output_type": "stream",
     "text": [
      "[1] 1.730644\n"
     ]
    }
   ],
   "source": [
    "rmse_decision_tree = rmse(test$days_to_deliver,dt_preds)\n",
    "print(rmse_decision_tree)"
   ]
  },
  {
   "cell_type": "code",
   "execution_count": 23,
   "id": "16758217",
   "metadata": {
    "execution": {
     "iopub.execute_input": "2022-12-09T21:18:12.664356Z",
     "iopub.status.busy": "2022-12-09T21:18:12.663010Z",
     "iopub.status.idle": "2022-12-09T21:18:20.146707Z",
     "shell.execute_reply": "2022-12-09T21:18:20.145326Z"
    },
    "papermill": {
     "duration": 7.49584,
     "end_time": "2022-12-09T21:18:20.148533",
     "exception": false,
     "start_time": "2022-12-09T21:18:12.652693",
     "status": "completed"
    },
    "tags": []
   },
   "outputs": [
    {
     "data": {
      "text/html": [
       "<strong>2:</strong> 0.507024013620386"
      ],
      "text/latex": [
       "\\textbf{2:} 0.507024013620386"
      ],
      "text/markdown": [
       "**2:** 0.507024013620386"
      ],
      "text/plain": [
       "       2 \n",
       "0.507024 "
      ]
     },
     "metadata": {},
     "output_type": "display_data"
    }
   ],
   "source": [
    "evaluate_loss(round(dt_preds,0), test$days_to_deliver)\n"
   ]
  },
  {
   "cell_type": "markdown",
   "id": "81e27c77",
   "metadata": {
    "papermill": {
     "duration": 0.008624,
     "end_time": "2022-12-09T21:18:20.165855",
     "exception": false,
     "start_time": "2022-12-09T21:18:20.157231",
     "status": "completed"
    },
    "tags": []
   },
   "source": [
    "# Ridge Regression"
   ]
  },
  {
   "cell_type": "code",
   "execution_count": 24,
   "id": "84084fae",
   "metadata": {
    "execution": {
     "iopub.execute_input": "2022-12-09T21:18:20.186348Z",
     "iopub.status.busy": "2022-12-09T21:18:20.184994Z",
     "iopub.status.idle": "2022-12-09T21:19:43.209156Z",
     "shell.execute_reply": "2022-12-09T21:19:43.207750Z"
    },
    "papermill": {
     "duration": 83.048087,
     "end_time": "2022-12-09T21:19:43.222723",
     "exception": false,
     "start_time": "2022-12-09T21:18:20.174636",
     "status": "completed"
    },
    "tags": []
   },
   "outputs": [
    {
     "data": {
      "text/html": [
       "0.251379050517826"
      ],
      "text/latex": [
       "0.251379050517826"
      ],
      "text/markdown": [
       "0.251379050517826"
      ],
      "text/plain": [
       "[1] 0.2513791"
      ]
     },
     "metadata": {},
     "output_type": "display_data"
    }
   ],
   "source": [
    "#perform k-fold cross-validation to find optimal lambda value\n",
    "cv_model <- cv.glmnet(train_x, train_y, alpha = 0)\n",
    "\n",
    "#find optimal lambda value that minimizes test MSE\n",
    "best_lambda <- cv_model$lambda.min\n",
    "best_lambda"
   ]
  },
  {
   "cell_type": "code",
   "execution_count": 25,
   "id": "7e3f07ee",
   "metadata": {
    "execution": {
     "iopub.execute_input": "2022-12-09T21:19:43.243386Z",
     "iopub.status.busy": "2022-12-09T21:19:43.242057Z",
     "iopub.status.idle": "2022-12-09T21:19:44.554381Z",
     "shell.execute_reply": "2022-12-09T21:19:44.552763Z"
    },
    "papermill": {
     "duration": 1.324636,
     "end_time": "2022-12-09T21:19:44.556236",
     "exception": false,
     "start_time": "2022-12-09T21:19:43.231600",
     "status": "completed"
    },
    "tags": []
   },
   "outputs": [],
   "source": [
    "#ridge model\n",
    "ridge_reg = glmnet(train_x, train_y, nlambda = 25, alpha = 0, family = 'gaussian', lambda = best_lambda)"
   ]
  },
  {
   "cell_type": "code",
   "execution_count": 26,
   "id": "3d726973",
   "metadata": {
    "execution": {
     "iopub.execute_input": "2022-12-09T21:19:44.578601Z",
     "iopub.status.busy": "2022-12-09T21:19:44.577250Z",
     "iopub.status.idle": "2022-12-09T21:19:44.761437Z",
     "shell.execute_reply": "2022-12-09T21:19:44.759875Z"
    },
    "papermill": {
     "duration": 0.19761,
     "end_time": "2022-12-09T21:19:44.763311",
     "exception": false,
     "start_time": "2022-12-09T21:19:44.565701",
     "status": "completed"
    },
    "tags": []
   },
   "outputs": [],
   "source": [
    "# rr_model_preds <-predict(ridge_reg, test_x)\n",
    "rr_model_preds <-predict(ridge_reg, test_x)"
   ]
  },
  {
   "cell_type": "code",
   "execution_count": 27,
   "id": "1e125f72",
   "metadata": {
    "execution": {
     "iopub.execute_input": "2022-12-09T21:19:44.785317Z",
     "iopub.status.busy": "2022-12-09T21:19:44.783935Z",
     "iopub.status.idle": "2022-12-09T21:19:44.812694Z",
     "shell.execute_reply": "2022-12-09T21:19:44.811246Z"
    },
    "papermill": {
     "duration": 0.041908,
     "end_time": "2022-12-09T21:19:44.814492",
     "exception": false,
     "start_time": "2022-12-09T21:19:44.772584",
     "status": "completed"
    },
    "tags": []
   },
   "outputs": [
    {
     "name": "stdout",
     "output_type": "stream",
     "text": [
      "[1] 1.631548\n"
     ]
    }
   ],
   "source": [
    "rmse_ridge = rmse(test$days_to_deliver,rr_model_preds)\n",
    "print(rmse_ridge)"
   ]
  },
  {
   "cell_type": "code",
   "execution_count": 28,
   "id": "5cc234c4",
   "metadata": {
    "execution": {
     "iopub.execute_input": "2022-12-09T21:19:44.835998Z",
     "iopub.status.busy": "2022-12-09T21:19:44.834760Z",
     "iopub.status.idle": "2022-12-09T21:19:47.191730Z",
     "shell.execute_reply": "2022-12-09T21:19:47.190352Z"
    },
    "papermill": {
     "duration": 2.369769,
     "end_time": "2022-12-09T21:19:47.193560",
     "exception": false,
     "start_time": "2022-12-09T21:19:44.823791",
     "status": "completed"
    },
    "tags": []
   },
   "outputs": [
    {
     "data": {
      "text/html": [
       "0.498206597394799"
      ],
      "text/latex": [
       "0.498206597394799"
      ],
      "text/markdown": [
       "0.498206597394799"
      ],
      "text/plain": [
       "[1] 0.4982066"
      ]
     },
     "metadata": {},
     "output_type": "display_data"
    }
   ],
   "source": [
    "evaluate_loss(round(rr_model_preds,0), test$days_to_deliver)"
   ]
  }
 ],
 "metadata": {
  "kernelspec": {
   "display_name": "R",
   "language": "R",
   "name": "ir"
  },
  "language_info": {
   "codemirror_mode": "r",
   "file_extension": ".r",
   "mimetype": "text/x-r-source",
   "name": "R",
   "pygments_lexer": "r",
   "version": "4.0.5"
  },
  "papermill": {
   "default_parameters": {},
   "duration": 796.891878,
   "end_time": "2022-12-09T21:19:48.527348",
   "environment_variables": {},
   "exception": null,
   "input_path": "__notebook__.ipynb",
   "output_path": "__notebook__.ipynb",
   "parameters": {},
   "start_time": "2022-12-09T21:06:31.635470",
   "version": "2.4.0"
  }
 },
 "nbformat": 4,
 "nbformat_minor": 5
}

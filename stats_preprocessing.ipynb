{
 "cells": [
  {
   "cell_type": "code",
   "execution_count": 1,
   "id": "dd437b43",
   "metadata": {
    "_execution_state": "idle",
    "_uuid": "051d70d956493feee0c6d64651c6a088724dca2a",
    "execution": {
     "iopub.execute_input": "2022-12-09T22:12:58.662120Z",
     "iopub.status.busy": "2022-12-09T22:12:58.660288Z",
     "iopub.status.idle": "2022-12-09T22:13:34.385446Z",
     "shell.execute_reply": "2022-12-09T22:13:34.383926Z"
    },
    "papermill": {
     "duration": 35.739693,
     "end_time": "2022-12-09T22:13:34.389326",
     "exception": false,
     "start_time": "2022-12-09T22:12:58.649633",
     "status": "completed"
    },
    "tags": []
   },
   "outputs": [
    {
     "name": "stderr",
     "output_type": "stream",
     "text": [
      "── \u001b[1mAttaching packages\u001b[22m ─────────────────────────────────────── tidyverse 1.3.2 ──\n",
      "\u001b[32m✔\u001b[39m \u001b[34mggplot2\u001b[39m 3.3.6      \u001b[32m✔\u001b[39m \u001b[34mpurrr  \u001b[39m 0.3.5 \n",
      "\u001b[32m✔\u001b[39m \u001b[34mtibble \u001b[39m 3.1.8      \u001b[32m✔\u001b[39m \u001b[34mdplyr  \u001b[39m 1.0.10\n",
      "\u001b[32m✔\u001b[39m \u001b[34mtidyr  \u001b[39m 1.2.1      \u001b[32m✔\u001b[39m \u001b[34mstringr\u001b[39m 1.4.1 \n",
      "\u001b[32m✔\u001b[39m \u001b[34mreadr  \u001b[39m 2.1.3      \u001b[32m✔\u001b[39m \u001b[34mforcats\u001b[39m 0.5.2 \n",
      "── \u001b[1mConflicts\u001b[22m ────────────────────────────────────────── tidyverse_conflicts() ──\n",
      "\u001b[31m✖\u001b[39m \u001b[34mdplyr\u001b[39m::\u001b[32mfilter()\u001b[39m masks \u001b[34mstats\u001b[39m::filter()\n",
      "\u001b[31m✖\u001b[39m \u001b[34mdplyr\u001b[39m::\u001b[32mlag()\u001b[39m    masks \u001b[34mstats\u001b[39m::lag()\n",
      "Installing package into ‘/usr/local/lib/R/site-library’\n",
      "(as ‘lib’ is unspecified)\n",
      "\n",
      "\n",
      "Attaching package: ‘MASS’\n",
      "\n",
      "\n",
      "The following object is masked from ‘package:dplyr’:\n",
      "\n",
      "    select\n",
      "\n",
      "\n"
     ]
    }
   ],
   "source": [
    "\n",
    "library(tidyverse) # metapackage of all tidyverse packages\n",
    "library(ggplot2)\n",
    "library(dplyr)\n",
    "install.packages(\"zipcodeR\")\n",
    "library(zipcodeR)\n",
    "# list.files(path = \"../input\")\n",
    "library(MASS)\n",
    "library(caTools)"
   ]
  },
  {
   "cell_type": "code",
   "execution_count": 2,
   "id": "69e0ca9e",
   "metadata": {
    "execution": {
     "iopub.execute_input": "2022-12-09T22:13:34.431435Z",
     "iopub.status.busy": "2022-12-09T22:13:34.406690Z",
     "iopub.status.idle": "2022-12-09T22:17:45.575730Z",
     "shell.execute_reply": "2022-12-09T22:17:45.574076Z"
    },
    "papermill": {
     "duration": 251.180582,
     "end_time": "2022-12-09T22:17:45.577848",
     "exception": false,
     "start_time": "2022-12-09T22:13:34.397266",
     "status": "completed"
    },
    "tags": []
   },
   "outputs": [],
   "source": [
    "df <- read.csv(file='../input/ebay-delivery-date-prediction/eBay Delivery date prediction.csv')"
   ]
  },
  {
   "cell_type": "code",
   "execution_count": 3,
   "id": "4c71054d",
   "metadata": {
    "execution": {
     "iopub.execute_input": "2022-12-09T22:17:45.600043Z",
     "iopub.status.busy": "2022-12-09T22:17:45.598645Z",
     "iopub.status.idle": "2022-12-09T22:17:45.628223Z",
     "shell.execute_reply": "2022-12-09T22:17:45.626906Z"
    },
    "papermill": {
     "duration": 0.042613,
     "end_time": "2022-12-09T22:17:45.630420",
     "exception": false,
     "start_time": "2022-12-09T22:17:45.587807",
     "status": "completed"
    },
    "tags": []
   },
   "outputs": [
    {
     "data": {
      "text/html": [
       "<table class=\"dataframe\">\n",
       "<caption>A data.frame: 6 × 20</caption>\n",
       "<thead>\n",
       "\t<tr><th></th><th scope=col>X</th><th scope=col>b2c_c2c</th><th scope=col>seller_id</th><th scope=col>declared_handling_days</th><th scope=col>acceptance_scan_timestamp</th><th scope=col>shipment_method_id</th><th scope=col>shipping_fee</th><th scope=col>carrier_min_estimate</th><th scope=col>carrier_max_estimate</th><th scope=col>item_zip</th><th scope=col>buyer_zip</th><th scope=col>category_id</th><th scope=col>item_price</th><th scope=col>quantity</th><th scope=col>payment_datetime</th><th scope=col>delivery_date</th><th scope=col>weight</th><th scope=col>weight_units</th><th scope=col>package_size</th><th scope=col>record_number</th></tr>\n",
       "\t<tr><th></th><th scope=col>&lt;int&gt;</th><th scope=col>&lt;chr&gt;</th><th scope=col>&lt;int&gt;</th><th scope=col>&lt;dbl&gt;</th><th scope=col>&lt;chr&gt;</th><th scope=col>&lt;int&gt;</th><th scope=col>&lt;dbl&gt;</th><th scope=col>&lt;int&gt;</th><th scope=col>&lt;int&gt;</th><th scope=col>&lt;chr&gt;</th><th scope=col>&lt;chr&gt;</th><th scope=col>&lt;int&gt;</th><th scope=col>&lt;dbl&gt;</th><th scope=col>&lt;int&gt;</th><th scope=col>&lt;chr&gt;</th><th scope=col>&lt;chr&gt;</th><th scope=col>&lt;int&gt;</th><th scope=col>&lt;int&gt;</th><th scope=col>&lt;chr&gt;</th><th scope=col>&lt;int&gt;</th></tr>\n",
       "</thead>\n",
       "<tbody>\n",
       "\t<tr><th scope=row>1</th><td>0</td><td>B2C</td><td>  25454</td><td>3</td><td>2019-03-26 15:11:00.000-07:00</td><td>0</td><td>0.0</td><td>3</td><td>5</td><td>97219     </td><td>49040</td><td>13</td><td>27.95</td><td>1</td><td>2019-03-24 03:56:49.000-07:00</td><td>2019-03-29</td><td>5</td><td>1</td><td>LETTER                </td><td>1</td></tr>\n",
       "\t<tr><th scope=row>2</th><td>1</td><td>C2C</td><td>6727381</td><td>2</td><td>2018-06-02 12:53:00.000-07:00</td><td>0</td><td>3.0</td><td>3</td><td>5</td><td>11415-3528</td><td>62521</td><td> 0</td><td>20.50</td><td>1</td><td>2018-06-01 13:43:54.000-07:00</td><td>2018-06-05</td><td>0</td><td>1</td><td>PACKAGE_THICK_ENVELOPE</td><td>2</td></tr>\n",
       "\t<tr><th scope=row>3</th><td>2</td><td>B2C</td><td>  18507</td><td>1</td><td>2019-01-07 16:22:00.000-05:00</td><td>0</td><td>4.5</td><td>3</td><td>5</td><td>27292     </td><td>53010</td><td> 1</td><td>19.90</td><td>1</td><td>2019-01-06 00:02:00.000-05:00</td><td>2019-01-10</td><td>9</td><td>1</td><td>PACKAGE_THICK_ENVELOPE</td><td>3</td></tr>\n",
       "\t<tr><th scope=row>4</th><td>3</td><td>B2C</td><td>   4677</td><td>1</td><td>2018-12-17 16:56:00.000-08:00</td><td>0</td><td>0.0</td><td>3</td><td>5</td><td>90703     </td><td>80022</td><td> 1</td><td>35.50</td><td>1</td><td>2018-12-16 10:28:28.000-08:00</td><td>2018-12-21</td><td>8</td><td>1</td><td>PACKAGE_THICK_ENVELOPE</td><td>4</td></tr>\n",
       "\t<tr><th scope=row>5</th><td>4</td><td>B2C</td><td>   4677</td><td>1</td><td>2018-07-27 16:48:00.000-07:00</td><td>0</td><td>0.0</td><td>3</td><td>5</td><td>90703     </td><td>55070</td><td> 1</td><td>25.00</td><td>1</td><td>2018-07-26 18:20:02.000-07:00</td><td>2018-07-30</td><td>3</td><td>1</td><td>PACKAGE_THICK_ENVELOPE</td><td>5</td></tr>\n",
       "\t<tr><th scope=row>6</th><td>5</td><td>B2C</td><td>  10514</td><td>1</td><td>2019-04-19 19:42:00.000-04:00</td><td>0</td><td>0.0</td><td>3</td><td>5</td><td>43215     </td><td>77063</td><td> 3</td><td>10.39</td><td>1</td><td>2019-04-18 14:11:09.000-04:00</td><td>2019-04-22</td><td>1</td><td>1</td><td>PACKAGE_THICK_ENVELOPE</td><td>6</td></tr>\n",
       "</tbody>\n",
       "</table>\n"
      ],
      "text/latex": [
       "A data.frame: 6 × 20\n",
       "\\begin{tabular}{r|llllllllllllllllllll}\n",
       "  & X & b2c\\_c2c & seller\\_id & declared\\_handling\\_days & acceptance\\_scan\\_timestamp & shipment\\_method\\_id & shipping\\_fee & carrier\\_min\\_estimate & carrier\\_max\\_estimate & item\\_zip & buyer\\_zip & category\\_id & item\\_price & quantity & payment\\_datetime & delivery\\_date & weight & weight\\_units & package\\_size & record\\_number\\\\\n",
       "  & <int> & <chr> & <int> & <dbl> & <chr> & <int> & <dbl> & <int> & <int> & <chr> & <chr> & <int> & <dbl> & <int> & <chr> & <chr> & <int> & <int> & <chr> & <int>\\\\\n",
       "\\hline\n",
       "\t1 & 0 & B2C &   25454 & 3 & 2019-03-26 15:11:00.000-07:00 & 0 & 0.0 & 3 & 5 & 97219      & 49040 & 13 & 27.95 & 1 & 2019-03-24 03:56:49.000-07:00 & 2019-03-29 & 5 & 1 & LETTER                 & 1\\\\\n",
       "\t2 & 1 & C2C & 6727381 & 2 & 2018-06-02 12:53:00.000-07:00 & 0 & 3.0 & 3 & 5 & 11415-3528 & 62521 &  0 & 20.50 & 1 & 2018-06-01 13:43:54.000-07:00 & 2018-06-05 & 0 & 1 & PACKAGE\\_THICK\\_ENVELOPE & 2\\\\\n",
       "\t3 & 2 & B2C &   18507 & 1 & 2019-01-07 16:22:00.000-05:00 & 0 & 4.5 & 3 & 5 & 27292      & 53010 &  1 & 19.90 & 1 & 2019-01-06 00:02:00.000-05:00 & 2019-01-10 & 9 & 1 & PACKAGE\\_THICK\\_ENVELOPE & 3\\\\\n",
       "\t4 & 3 & B2C &    4677 & 1 & 2018-12-17 16:56:00.000-08:00 & 0 & 0.0 & 3 & 5 & 90703      & 80022 &  1 & 35.50 & 1 & 2018-12-16 10:28:28.000-08:00 & 2018-12-21 & 8 & 1 & PACKAGE\\_THICK\\_ENVELOPE & 4\\\\\n",
       "\t5 & 4 & B2C &    4677 & 1 & 2018-07-27 16:48:00.000-07:00 & 0 & 0.0 & 3 & 5 & 90703      & 55070 &  1 & 25.00 & 1 & 2018-07-26 18:20:02.000-07:00 & 2018-07-30 & 3 & 1 & PACKAGE\\_THICK\\_ENVELOPE & 5\\\\\n",
       "\t6 & 5 & B2C &   10514 & 1 & 2019-04-19 19:42:00.000-04:00 & 0 & 0.0 & 3 & 5 & 43215      & 77063 &  3 & 10.39 & 1 & 2019-04-18 14:11:09.000-04:00 & 2019-04-22 & 1 & 1 & PACKAGE\\_THICK\\_ENVELOPE & 6\\\\\n",
       "\\end{tabular}\n"
      ],
      "text/markdown": [
       "\n",
       "A data.frame: 6 × 20\n",
       "\n",
       "| <!--/--> | X &lt;int&gt; | b2c_c2c &lt;chr&gt; | seller_id &lt;int&gt; | declared_handling_days &lt;dbl&gt; | acceptance_scan_timestamp &lt;chr&gt; | shipment_method_id &lt;int&gt; | shipping_fee &lt;dbl&gt; | carrier_min_estimate &lt;int&gt; | carrier_max_estimate &lt;int&gt; | item_zip &lt;chr&gt; | buyer_zip &lt;chr&gt; | category_id &lt;int&gt; | item_price &lt;dbl&gt; | quantity &lt;int&gt; | payment_datetime &lt;chr&gt; | delivery_date &lt;chr&gt; | weight &lt;int&gt; | weight_units &lt;int&gt; | package_size &lt;chr&gt; | record_number &lt;int&gt; |\n",
       "|---|---|---|---|---|---|---|---|---|---|---|---|---|---|---|---|---|---|---|---|---|\n",
       "| 1 | 0 | B2C |   25454 | 3 | 2019-03-26 15:11:00.000-07:00 | 0 | 0.0 | 3 | 5 | 97219      | 49040 | 13 | 27.95 | 1 | 2019-03-24 03:56:49.000-07:00 | 2019-03-29 | 5 | 1 | LETTER                 | 1 |\n",
       "| 2 | 1 | C2C | 6727381 | 2 | 2018-06-02 12:53:00.000-07:00 | 0 | 3.0 | 3 | 5 | 11415-3528 | 62521 |  0 | 20.50 | 1 | 2018-06-01 13:43:54.000-07:00 | 2018-06-05 | 0 | 1 | PACKAGE_THICK_ENVELOPE | 2 |\n",
       "| 3 | 2 | B2C |   18507 | 1 | 2019-01-07 16:22:00.000-05:00 | 0 | 4.5 | 3 | 5 | 27292      | 53010 |  1 | 19.90 | 1 | 2019-01-06 00:02:00.000-05:00 | 2019-01-10 | 9 | 1 | PACKAGE_THICK_ENVELOPE | 3 |\n",
       "| 4 | 3 | B2C |    4677 | 1 | 2018-12-17 16:56:00.000-08:00 | 0 | 0.0 | 3 | 5 | 90703      | 80022 |  1 | 35.50 | 1 | 2018-12-16 10:28:28.000-08:00 | 2018-12-21 | 8 | 1 | PACKAGE_THICK_ENVELOPE | 4 |\n",
       "| 5 | 4 | B2C |    4677 | 1 | 2018-07-27 16:48:00.000-07:00 | 0 | 0.0 | 3 | 5 | 90703      | 55070 |  1 | 25.00 | 1 | 2018-07-26 18:20:02.000-07:00 | 2018-07-30 | 3 | 1 | PACKAGE_THICK_ENVELOPE | 5 |\n",
       "| 6 | 5 | B2C |   10514 | 1 | 2019-04-19 19:42:00.000-04:00 | 0 | 0.0 | 3 | 5 | 43215      | 77063 |  3 | 10.39 | 1 | 2019-04-18 14:11:09.000-04:00 | 2019-04-22 | 1 | 1 | PACKAGE_THICK_ENVELOPE | 6 |\n",
       "\n"
      ],
      "text/plain": [
       "  X b2c_c2c seller_id declared_handling_days acceptance_scan_timestamp    \n",
       "1 0 B2C       25454   3                      2019-03-26 15:11:00.000-07:00\n",
       "2 1 C2C     6727381   2                      2018-06-02 12:53:00.000-07:00\n",
       "3 2 B2C       18507   1                      2019-01-07 16:22:00.000-05:00\n",
       "4 3 B2C        4677   1                      2018-12-17 16:56:00.000-08:00\n",
       "5 4 B2C        4677   1                      2018-07-27 16:48:00.000-07:00\n",
       "6 5 B2C       10514   1                      2019-04-19 19:42:00.000-04:00\n",
       "  shipment_method_id shipping_fee carrier_min_estimate carrier_max_estimate\n",
       "1 0                  0.0          3                    5                   \n",
       "2 0                  3.0          3                    5                   \n",
       "3 0                  4.5          3                    5                   \n",
       "4 0                  0.0          3                    5                   \n",
       "5 0                  0.0          3                    5                   \n",
       "6 0                  0.0          3                    5                   \n",
       "  item_zip   buyer_zip category_id item_price quantity\n",
       "1 97219      49040     13          27.95      1       \n",
       "2 11415-3528 62521      0          20.50      1       \n",
       "3 27292      53010      1          19.90      1       \n",
       "4 90703      80022      1          35.50      1       \n",
       "5 90703      55070      1          25.00      1       \n",
       "6 43215      77063      3          10.39      1       \n",
       "  payment_datetime              delivery_date weight weight_units\n",
       "1 2019-03-24 03:56:49.000-07:00 2019-03-29    5      1           \n",
       "2 2018-06-01 13:43:54.000-07:00 2018-06-05    0      1           \n",
       "3 2019-01-06 00:02:00.000-05:00 2019-01-10    9      1           \n",
       "4 2018-12-16 10:28:28.000-08:00 2018-12-21    8      1           \n",
       "5 2018-07-26 18:20:02.000-07:00 2018-07-30    3      1           \n",
       "6 2019-04-18 14:11:09.000-04:00 2019-04-22    1      1           \n",
       "  package_size           record_number\n",
       "1 LETTER                 1            \n",
       "2 PACKAGE_THICK_ENVELOPE 2            \n",
       "3 PACKAGE_THICK_ENVELOPE 3            \n",
       "4 PACKAGE_THICK_ENVELOPE 4            \n",
       "5 PACKAGE_THICK_ENVELOPE 5            \n",
       "6 PACKAGE_THICK_ENVELOPE 6            "
      ]
     },
     "metadata": {},
     "output_type": "display_data"
    }
   ],
   "source": [
    "head(df)"
   ]
  },
  {
   "cell_type": "code",
   "execution_count": 4,
   "id": "bcddb468",
   "metadata": {
    "execution": {
     "iopub.execute_input": "2022-12-09T22:17:45.648876Z",
     "iopub.status.busy": "2022-12-09T22:17:45.647465Z",
     "iopub.status.idle": "2022-12-09T22:17:45.662329Z",
     "shell.execute_reply": "2022-12-09T22:17:45.660974Z"
    },
    "papermill": {
     "duration": 0.026636,
     "end_time": "2022-12-09T22:17:45.664801",
     "exception": false,
     "start_time": "2022-12-09T22:17:45.638165",
     "status": "completed"
    },
    "tags": []
   },
   "outputs": [
    {
     "data": {
      "text/html": [
       "15000000"
      ],
      "text/latex": [
       "15000000"
      ],
      "text/markdown": [
       "15000000"
      ],
      "text/plain": [
       "[1] 15000000"
      ]
     },
     "metadata": {},
     "output_type": "display_data"
    }
   ],
   "source": [
    "nrow(df)"
   ]
  },
  {
   "cell_type": "code",
   "execution_count": 5,
   "id": "19b8718c",
   "metadata": {
    "execution": {
     "iopub.execute_input": "2022-12-09T22:17:45.684503Z",
     "iopub.status.busy": "2022-12-09T22:17:45.683042Z",
     "iopub.status.idle": "2022-12-09T22:17:45.695851Z",
     "shell.execute_reply": "2022-12-09T22:17:45.694407Z"
    },
    "papermill": {
     "duration": 0.024777,
     "end_time": "2022-12-09T22:17:45.697853",
     "exception": false,
     "start_time": "2022-12-09T22:17:45.673076",
     "status": "completed"
    },
    "tags": []
   },
   "outputs": [],
   "source": [
    "#creating a copy of the datframe\n",
    "data <- data.frame(df)     "
   ]
  },
  {
   "cell_type": "code",
   "execution_count": 6,
   "id": "d6167932",
   "metadata": {
    "execution": {
     "iopub.execute_input": "2022-12-09T22:17:45.717212Z",
     "iopub.status.busy": "2022-12-09T22:17:45.715832Z",
     "iopub.status.idle": "2022-12-09T22:17:45.731582Z",
     "shell.execute_reply": "2022-12-09T22:17:45.730071Z"
    },
    "papermill": {
     "duration": 0.02717,
     "end_time": "2022-12-09T22:17:45.733446",
     "exception": false,
     "start_time": "2022-12-09T22:17:45.706276",
     "status": "completed"
    },
    "tags": []
   },
   "outputs": [
    {
     "data": {
      "text/html": [
       "<style>\n",
       ".list-inline {list-style: none; margin:0; padding: 0}\n",
       ".list-inline>li {display: inline-block}\n",
       ".list-inline>li:not(:last-child)::after {content: \"\\00b7\"; padding: 0 .5ex}\n",
       "</style>\n",
       "<ol class=list-inline><li>'X'</li><li>'b2c_c2c'</li><li>'seller_id'</li><li>'declared_handling_days'</li><li>'acceptance_scan_timestamp'</li><li>'shipment_method_id'</li><li>'shipping_fee'</li><li>'carrier_min_estimate'</li><li>'carrier_max_estimate'</li><li>'item_zip'</li><li>'buyer_zip'</li><li>'category_id'</li><li>'item_price'</li><li>'quantity'</li><li>'payment_datetime'</li><li>'delivery_date'</li><li>'weight'</li><li>'weight_units'</li><li>'package_size'</li><li>'record_number'</li></ol>\n"
      ],
      "text/latex": [
       "\\begin{enumerate*}\n",
       "\\item 'X'\n",
       "\\item 'b2c\\_c2c'\n",
       "\\item 'seller\\_id'\n",
       "\\item 'declared\\_handling\\_days'\n",
       "\\item 'acceptance\\_scan\\_timestamp'\n",
       "\\item 'shipment\\_method\\_id'\n",
       "\\item 'shipping\\_fee'\n",
       "\\item 'carrier\\_min\\_estimate'\n",
       "\\item 'carrier\\_max\\_estimate'\n",
       "\\item 'item\\_zip'\n",
       "\\item 'buyer\\_zip'\n",
       "\\item 'category\\_id'\n",
       "\\item 'item\\_price'\n",
       "\\item 'quantity'\n",
       "\\item 'payment\\_datetime'\n",
       "\\item 'delivery\\_date'\n",
       "\\item 'weight'\n",
       "\\item 'weight\\_units'\n",
       "\\item 'package\\_size'\n",
       "\\item 'record\\_number'\n",
       "\\end{enumerate*}\n"
      ],
      "text/markdown": [
       "1. 'X'\n",
       "2. 'b2c_c2c'\n",
       "3. 'seller_id'\n",
       "4. 'declared_handling_days'\n",
       "5. 'acceptance_scan_timestamp'\n",
       "6. 'shipment_method_id'\n",
       "7. 'shipping_fee'\n",
       "8. 'carrier_min_estimate'\n",
       "9. 'carrier_max_estimate'\n",
       "10. 'item_zip'\n",
       "11. 'buyer_zip'\n",
       "12. 'category_id'\n",
       "13. 'item_price'\n",
       "14. 'quantity'\n",
       "15. 'payment_datetime'\n",
       "16. 'delivery_date'\n",
       "17. 'weight'\n",
       "18. 'weight_units'\n",
       "19. 'package_size'\n",
       "20. 'record_number'\n",
       "\n",
       "\n"
      ],
      "text/plain": [
       " [1] \"X\"                         \"b2c_c2c\"                  \n",
       " [3] \"seller_id\"                 \"declared_handling_days\"   \n",
       " [5] \"acceptance_scan_timestamp\" \"shipment_method_id\"       \n",
       " [7] \"shipping_fee\"              \"carrier_min_estimate\"     \n",
       " [9] \"carrier_max_estimate\"      \"item_zip\"                 \n",
       "[11] \"buyer_zip\"                 \"category_id\"              \n",
       "[13] \"item_price\"                \"quantity\"                 \n",
       "[15] \"payment_datetime\"          \"delivery_date\"            \n",
       "[17] \"weight\"                    \"weight_units\"             \n",
       "[19] \"package_size\"              \"record_number\"            "
      ]
     },
     "metadata": {},
     "output_type": "display_data"
    }
   ],
   "source": [
    "#cheking all columns\n",
    "colnames(data)"
   ]
  },
  {
   "cell_type": "code",
   "execution_count": 7,
   "id": "5e9acc3c",
   "metadata": {
    "execution": {
     "iopub.execute_input": "2022-12-09T22:17:45.753217Z",
     "iopub.status.busy": "2022-12-09T22:17:45.751795Z",
     "iopub.status.idle": "2022-12-09T22:17:55.999666Z",
     "shell.execute_reply": "2022-12-09T22:17:55.998297Z"
    },
    "papermill": {
     "duration": 10.259654,
     "end_time": "2022-12-09T22:17:56.001472",
     "exception": false,
     "start_time": "2022-12-09T22:17:45.741818",
     "status": "completed"
    },
    "tags": []
   },
   "outputs": [
    {
     "data": {
      "text/html": [
       "<style>\n",
       ".dl-inline {width: auto; margin:0; padding: 0}\n",
       ".dl-inline>dt, .dl-inline>dd {float: none; width: auto; display: inline-block}\n",
       ".dl-inline>dt::after {content: \":\\0020\"; padding-right: .5ex}\n",
       ".dl-inline>dt:not(:first-of-type) {padding-left: .5ex}\n",
       "</style><dl class=dl-inline><dt>X</dt><dd>0</dd><dt>b2c_c2c</dt><dd>0</dd><dt>seller_id</dt><dd>0</dd><dt>declared_handling_days</dt><dd>702886</dd><dt>acceptance_scan_timestamp</dt><dd>0</dd><dt>shipment_method_id</dt><dd>0</dd><dt>shipping_fee</dt><dd>0</dd><dt>carrier_min_estimate</dt><dd>0</dd><dt>carrier_max_estimate</dt><dd>0</dd><dt>item_zip</dt><dd>0</dd><dt>buyer_zip</dt><dd>0</dd><dt>category_id</dt><dd>0</dd><dt>item_price</dt><dd>0</dd><dt>quantity</dt><dd>0</dd><dt>payment_datetime</dt><dd>0</dd><dt>delivery_date</dt><dd>0</dd><dt>weight</dt><dd>0</dd><dt>weight_units</dt><dd>0</dd><dt>package_size</dt><dd>0</dd><dt>record_number</dt><dd>0</dd></dl>\n"
      ],
      "text/latex": [
       "\\begin{description*}\n",
       "\\item[X] 0\n",
       "\\item[b2c\\textbackslash{}\\_c2c] 0\n",
       "\\item[seller\\textbackslash{}\\_id] 0\n",
       "\\item[declared\\textbackslash{}\\_handling\\textbackslash{}\\_days] 702886\n",
       "\\item[acceptance\\textbackslash{}\\_scan\\textbackslash{}\\_timestamp] 0\n",
       "\\item[shipment\\textbackslash{}\\_method\\textbackslash{}\\_id] 0\n",
       "\\item[shipping\\textbackslash{}\\_fee] 0\n",
       "\\item[carrier\\textbackslash{}\\_min\\textbackslash{}\\_estimate] 0\n",
       "\\item[carrier\\textbackslash{}\\_max\\textbackslash{}\\_estimate] 0\n",
       "\\item[item\\textbackslash{}\\_zip] 0\n",
       "\\item[buyer\\textbackslash{}\\_zip] 0\n",
       "\\item[category\\textbackslash{}\\_id] 0\n",
       "\\item[item\\textbackslash{}\\_price] 0\n",
       "\\item[quantity] 0\n",
       "\\item[payment\\textbackslash{}\\_datetime] 0\n",
       "\\item[delivery\\textbackslash{}\\_date] 0\n",
       "\\item[weight] 0\n",
       "\\item[weight\\textbackslash{}\\_units] 0\n",
       "\\item[package\\textbackslash{}\\_size] 0\n",
       "\\item[record\\textbackslash{}\\_number] 0\n",
       "\\end{description*}\n"
      ],
      "text/markdown": [
       "X\n",
       ":   0b2c_c2c\n",
       ":   0seller_id\n",
       ":   0declared_handling_days\n",
       ":   702886acceptance_scan_timestamp\n",
       ":   0shipment_method_id\n",
       ":   0shipping_fee\n",
       ":   0carrier_min_estimate\n",
       ":   0carrier_max_estimate\n",
       ":   0item_zip\n",
       ":   0buyer_zip\n",
       ":   0category_id\n",
       ":   0item_price\n",
       ":   0quantity\n",
       ":   0payment_datetime\n",
       ":   0delivery_date\n",
       ":   0weight\n",
       ":   0weight_units\n",
       ":   0package_size\n",
       ":   0record_number\n",
       ":   0\n",
       "\n"
      ],
      "text/plain": [
       "                        X                   b2c_c2c                 seller_id \n",
       "                        0                         0                         0 \n",
       "   declared_handling_days acceptance_scan_timestamp        shipment_method_id \n",
       "                   702886                         0                         0 \n",
       "             shipping_fee      carrier_min_estimate      carrier_max_estimate \n",
       "                        0                         0                         0 \n",
       "                 item_zip                 buyer_zip               category_id \n",
       "                        0                         0                         0 \n",
       "               item_price                  quantity          payment_datetime \n",
       "                        0                         0                         0 \n",
       "            delivery_date                    weight              weight_units \n",
       "                        0                         0                         0 \n",
       "             package_size             record_number \n",
       "                        0                         0 "
      ]
     },
     "metadata": {},
     "output_type": "display_data"
    }
   ],
   "source": [
    "#checkig how many null values exist is datafram\n",
    "# sum(is.na(df))\n",
    "colSums(is.na(data))"
   ]
  },
  {
   "cell_type": "markdown",
   "id": "d2a98572",
   "metadata": {
    "papermill": {
     "duration": 0.007957,
     "end_time": "2022-12-09T22:17:56.017648",
     "exception": false,
     "start_time": "2022-12-09T22:17:56.009691",
     "status": "completed"
    },
    "tags": []
   },
   "source": [
    "declared_handling_days is the only column with missing values =702886.\n",
    "declared_handling_days - The number of days taken by the seller to ship the carrier from the day of acceptance.\n"
   ]
  },
  {
   "cell_type": "code",
   "execution_count": 8,
   "id": "784d17b2",
   "metadata": {
    "execution": {
     "iopub.execute_input": "2022-12-09T22:17:56.036319Z",
     "iopub.status.busy": "2022-12-09T22:17:56.034986Z",
     "iopub.status.idle": "2022-12-09T22:18:12.336750Z",
     "shell.execute_reply": "2022-12-09T22:18:12.335226Z"
    },
    "papermill": {
     "duration": 16.31339,
     "end_time": "2022-12-09T22:18:12.338979",
     "exception": false,
     "start_time": "2022-12-09T22:17:56.025589",
     "status": "completed"
    },
    "tags": []
   },
   "outputs": [],
   "source": [
    "#dropping column since imputing such a large number of missing values might create a bias in the data\n",
    "data = subset(df, select = -c(X) )"
   ]
  },
  {
   "cell_type": "code",
   "execution_count": 9,
   "id": "6fdb1c2a",
   "metadata": {
    "execution": {
     "iopub.execute_input": "2022-12-09T22:18:12.358650Z",
     "iopub.status.busy": "2022-12-09T22:18:12.357277Z",
     "iopub.status.idle": "2022-12-09T22:18:12.387723Z",
     "shell.execute_reply": "2022-12-09T22:18:12.386374Z"
    },
    "papermill": {
     "duration": 0.04253,
     "end_time": "2022-12-09T22:18:12.389835",
     "exception": false,
     "start_time": "2022-12-09T22:18:12.347305",
     "status": "completed"
    },
    "tags": []
   },
   "outputs": [
    {
     "name": "stdout",
     "output_type": "stream",
     "text": [
      "'data.frame':\t15000000 obs. of  19 variables:\n",
      " $ b2c_c2c                  : chr  \"B2C\" \"C2C\" \"B2C\" \"B2C\" ...\n",
      " $ seller_id                : int  25454 6727381 18507 4677 4677 10514 104 340356 113915 130301 ...\n",
      " $ declared_handling_days   : num  3 2 1 1 1 1 1 1 5 1 ...\n",
      " $ acceptance_scan_timestamp: chr  \"2019-03-26 15:11:00.000-07:00\" \"2018-06-02 12:53:00.000-07:00\" \"2019-01-07 16:22:00.000-05:00\" \"2018-12-17 16:56:00.000-08:00\" ...\n",
      " $ shipment_method_id       : int  0 0 0 0 0 0 0 0 3 1 ...\n",
      " $ shipping_fee             : num  0 3 4.5 0 0 0 0 2.95 0 0 ...\n",
      " $ carrier_min_estimate     : int  3 3 3 3 3 3 3 3 2 2 ...\n",
      " $ carrier_max_estimate     : int  5 5 5 5 5 5 5 5 8 5 ...\n",
      " $ item_zip                 : chr  \"97219\" \"11415-3528\" \"27292\" \"90703\" ...\n",
      " $ buyer_zip                : chr  \"49040\" \"62521\" \"53010\" \"80022\" ...\n",
      " $ category_id              : int  13 0 1 1 1 3 11 1 18 13 ...\n",
      " $ item_price               : num  27.9 20.5 19.9 35.5 25 ...\n",
      " $ quantity                 : int  1 1 1 1 1 1 1 1 1 1 ...\n",
      " $ payment_datetime         : chr  \"2019-03-24 03:56:49.000-07:00\" \"2018-06-01 13:43:54.000-07:00\" \"2019-01-06 00:02:00.000-05:00\" \"2018-12-16 10:28:28.000-08:00\" ...\n",
      " $ delivery_date            : chr  \"2019-03-29\" \"2018-06-05\" \"2019-01-10\" \"2018-12-21\" ...\n",
      " $ weight                   : int  5 0 9 8 3 1 0 1 0 112 ...\n",
      " $ weight_units             : int  1 1 1 1 1 1 1 1 1 1 ...\n",
      " $ package_size             : chr  \"LETTER\" \"PACKAGE_THICK_ENVELOPE\" \"PACKAGE_THICK_ENVELOPE\" \"PACKAGE_THICK_ENVELOPE\" ...\n",
      " $ record_number            : int  1 2 3 4 5 6 7 8 9 10 ...\n"
     ]
    }
   ],
   "source": [
    "str(data)"
   ]
  },
  {
   "cell_type": "markdown",
   "id": "bc64f19f",
   "metadata": {
    "papermill": {
     "duration": 0.008336,
     "end_time": "2022-12-09T22:18:12.407111",
     "exception": false,
     "start_time": "2022-12-09T22:18:12.398775",
     "status": "completed"
    },
    "tags": []
   },
   "source": [
    "#Overall columnwise analysis \n",
    "\n",
    "1) b2c_c2c - It of type string with values b2c or c2c. This explains if the transaction happening is between business to customers or between customers and other customers.\n",
    "\n",
    "2) seller_id - This is a unique ID given to each seller for identification. It is of type Long Int.\n",
    "\n",
    "3) declared_handling_days - The number of days taken by the seller to ship the carrier from the day of acceptance.\n",
    "\n",
    "4) acceptance_scan_timestamp - The date and time when the carrier has accepted the package for the final shipment. The values in this are of type timestamp.\n",
    "\n",
    "5) shipment_method_id - The integer type attribute defines the type of shipping service declared by the seller.\n",
    "\n",
    "6) shipping_fee - Transportation and handling charges charged by the seller for shipping the items. All the values are in USD.\n",
    "\n",
    "7) carrier_min_estimate - The minimum estimate of the number of required days by the carrier for the specified service.\n",
    "\n",
    "8) carrier_max_estimate - The maximum estimate of the number of required days by the carrier for the specified service.\n",
    "\n",
    "9) item_zip - The US Postal zip code of the package origin/source.\n",
    "\n",
    "10) buyer_zip - The US Postal zip code of the package destination.\n",
    "\n",
    "11) category_id - An integer type data attribute that categorizes the package by its type.\n",
    "\n",
    "12) item_price - The price per item involved in the transaction.\n",
    "\n",
    "13) quantity - Number of items involved in the transaction.\n",
    "\n",
    "15) payment_datetime - A timestamp attribute that clocks in the time when the payment has been done for the particular transaction.\n",
    "\n",
    "16) delivery_date - The actual delivery date of the package. This is the attribute that we need to predict using the other attributes.\n",
    "\n",
    "17) weight - A scalar value that determines the sum of the weight of all quantities involved in the transaction.\n",
    "\n",
    "18) weight_units - It defines the weight scalar value by telling if the measurements are in kilograms or pounds. Pounds are represented as 1 and Kilograms are denoted by 2.\n",
    "\n",
    "19) package_size - It is a categorical value which categorizes the packages based on its sizes.\n",
    "\n",
    "20) record_number - Unique integer number given to the transaction to identify them."
   ]
  },
  {
   "cell_type": "code",
   "execution_count": 10,
   "id": "620ea0f8",
   "metadata": {
    "execution": {
     "iopub.execute_input": "2022-12-09T22:18:12.426719Z",
     "iopub.status.busy": "2022-12-09T22:18:12.425618Z",
     "iopub.status.idle": "2022-12-09T22:18:12.640245Z",
     "shell.execute_reply": "2022-12-09T22:18:12.638493Z"
    },
    "papermill": {
     "duration": 0.227134,
     "end_time": "2022-12-09T22:18:12.643031",
     "exception": false,
     "start_time": "2022-12-09T22:18:12.415897",
     "status": "completed"
    },
    "tags": []
   },
   "outputs": [
    {
     "data": {
      "text/html": [
       "<style>\n",
       ".list-inline {list-style: none; margin:0; padding: 0}\n",
       ".list-inline>li {display: inline-block}\n",
       ".list-inline>li:not(:last-child)::after {content: \"\\00b7\"; padding: 0 .5ex}\n",
       "</style>\n",
       "<ol class=list-inline><li>'B2C'</li><li>'C2C'</li></ol>\n"
      ],
      "text/latex": [
       "\\begin{enumerate*}\n",
       "\\item 'B2C'\n",
       "\\item 'C2C'\n",
       "\\end{enumerate*}\n"
      ],
      "text/markdown": [
       "1. 'B2C'\n",
       "2. 'C2C'\n",
       "\n",
       "\n"
      ],
      "text/plain": [
       "[1] \"B2C\" \"C2C\""
      ]
     },
     "metadata": {},
     "output_type": "display_data"
    }
   ],
   "source": [
    "#we will encode this value \n",
    "unique(data$b2c_c2c) "
   ]
  },
  {
   "cell_type": "code",
   "execution_count": 11,
   "id": "d77e62d4",
   "metadata": {
    "execution": {
     "iopub.execute_input": "2022-12-09T22:18:12.663016Z",
     "iopub.status.busy": "2022-12-09T22:18:12.661671Z",
     "iopub.status.idle": "2022-12-09T22:18:13.238761Z",
     "shell.execute_reply": "2022-12-09T22:18:13.237198Z"
    },
    "papermill": {
     "duration": 0.589033,
     "end_time": "2022-12-09T22:18:13.240682",
     "exception": false,
     "start_time": "2022-12-09T22:18:12.651649",
     "status": "completed"
    },
    "tags": []
   },
   "outputs": [],
   "source": [
    "#encoding B2C as 0 and c2c as 1\n",
    "data$b2c_c2c<-ifelse(data$b2c_c2c==\"B2C\",0,1)"
   ]
  },
  {
   "cell_type": "code",
   "execution_count": 12,
   "id": "26267a2d",
   "metadata": {
    "execution": {
     "iopub.execute_input": "2022-12-09T22:18:13.261032Z",
     "iopub.status.busy": "2022-12-09T22:18:13.259690Z",
     "iopub.status.idle": "2022-12-09T22:18:13.283558Z",
     "shell.execute_reply": "2022-12-09T22:18:13.282190Z"
    },
    "papermill": {
     "duration": 0.036153,
     "end_time": "2022-12-09T22:18:13.285441",
     "exception": false,
     "start_time": "2022-12-09T22:18:13.249288",
     "status": "completed"
    },
    "tags": []
   },
   "outputs": [
    {
     "data": {
      "text/html": [
       "<table class=\"dataframe\">\n",
       "<caption>A data.frame: 6 × 19</caption>\n",
       "<thead>\n",
       "\t<tr><th></th><th scope=col>b2c_c2c</th><th scope=col>seller_id</th><th scope=col>declared_handling_days</th><th scope=col>acceptance_scan_timestamp</th><th scope=col>shipment_method_id</th><th scope=col>shipping_fee</th><th scope=col>carrier_min_estimate</th><th scope=col>carrier_max_estimate</th><th scope=col>item_zip</th><th scope=col>buyer_zip</th><th scope=col>category_id</th><th scope=col>item_price</th><th scope=col>quantity</th><th scope=col>payment_datetime</th><th scope=col>delivery_date</th><th scope=col>weight</th><th scope=col>weight_units</th><th scope=col>package_size</th><th scope=col>record_number</th></tr>\n",
       "\t<tr><th></th><th scope=col>&lt;dbl&gt;</th><th scope=col>&lt;int&gt;</th><th scope=col>&lt;dbl&gt;</th><th scope=col>&lt;chr&gt;</th><th scope=col>&lt;int&gt;</th><th scope=col>&lt;dbl&gt;</th><th scope=col>&lt;int&gt;</th><th scope=col>&lt;int&gt;</th><th scope=col>&lt;chr&gt;</th><th scope=col>&lt;chr&gt;</th><th scope=col>&lt;int&gt;</th><th scope=col>&lt;dbl&gt;</th><th scope=col>&lt;int&gt;</th><th scope=col>&lt;chr&gt;</th><th scope=col>&lt;chr&gt;</th><th scope=col>&lt;int&gt;</th><th scope=col>&lt;int&gt;</th><th scope=col>&lt;chr&gt;</th><th scope=col>&lt;int&gt;</th></tr>\n",
       "</thead>\n",
       "<tbody>\n",
       "\t<tr><th scope=row>1</th><td>0</td><td>  25454</td><td>3</td><td>2019-03-26 15:11:00.000-07:00</td><td>0</td><td>0.0</td><td>3</td><td>5</td><td>97219     </td><td>49040</td><td>13</td><td>27.95</td><td>1</td><td>2019-03-24 03:56:49.000-07:00</td><td>2019-03-29</td><td>5</td><td>1</td><td>LETTER                </td><td>1</td></tr>\n",
       "\t<tr><th scope=row>2</th><td>1</td><td>6727381</td><td>2</td><td>2018-06-02 12:53:00.000-07:00</td><td>0</td><td>3.0</td><td>3</td><td>5</td><td>11415-3528</td><td>62521</td><td> 0</td><td>20.50</td><td>1</td><td>2018-06-01 13:43:54.000-07:00</td><td>2018-06-05</td><td>0</td><td>1</td><td>PACKAGE_THICK_ENVELOPE</td><td>2</td></tr>\n",
       "\t<tr><th scope=row>3</th><td>0</td><td>  18507</td><td>1</td><td>2019-01-07 16:22:00.000-05:00</td><td>0</td><td>4.5</td><td>3</td><td>5</td><td>27292     </td><td>53010</td><td> 1</td><td>19.90</td><td>1</td><td>2019-01-06 00:02:00.000-05:00</td><td>2019-01-10</td><td>9</td><td>1</td><td>PACKAGE_THICK_ENVELOPE</td><td>3</td></tr>\n",
       "\t<tr><th scope=row>4</th><td>0</td><td>   4677</td><td>1</td><td>2018-12-17 16:56:00.000-08:00</td><td>0</td><td>0.0</td><td>3</td><td>5</td><td>90703     </td><td>80022</td><td> 1</td><td>35.50</td><td>1</td><td>2018-12-16 10:28:28.000-08:00</td><td>2018-12-21</td><td>8</td><td>1</td><td>PACKAGE_THICK_ENVELOPE</td><td>4</td></tr>\n",
       "\t<tr><th scope=row>5</th><td>0</td><td>   4677</td><td>1</td><td>2018-07-27 16:48:00.000-07:00</td><td>0</td><td>0.0</td><td>3</td><td>5</td><td>90703     </td><td>55070</td><td> 1</td><td>25.00</td><td>1</td><td>2018-07-26 18:20:02.000-07:00</td><td>2018-07-30</td><td>3</td><td>1</td><td>PACKAGE_THICK_ENVELOPE</td><td>5</td></tr>\n",
       "\t<tr><th scope=row>6</th><td>0</td><td>  10514</td><td>1</td><td>2019-04-19 19:42:00.000-04:00</td><td>0</td><td>0.0</td><td>3</td><td>5</td><td>43215     </td><td>77063</td><td> 3</td><td>10.39</td><td>1</td><td>2019-04-18 14:11:09.000-04:00</td><td>2019-04-22</td><td>1</td><td>1</td><td>PACKAGE_THICK_ENVELOPE</td><td>6</td></tr>\n",
       "</tbody>\n",
       "</table>\n"
      ],
      "text/latex": [
       "A data.frame: 6 × 19\n",
       "\\begin{tabular}{r|lllllllllllllllllll}\n",
       "  & b2c\\_c2c & seller\\_id & declared\\_handling\\_days & acceptance\\_scan\\_timestamp & shipment\\_method\\_id & shipping\\_fee & carrier\\_min\\_estimate & carrier\\_max\\_estimate & item\\_zip & buyer\\_zip & category\\_id & item\\_price & quantity & payment\\_datetime & delivery\\_date & weight & weight\\_units & package\\_size & record\\_number\\\\\n",
       "  & <dbl> & <int> & <dbl> & <chr> & <int> & <dbl> & <int> & <int> & <chr> & <chr> & <int> & <dbl> & <int> & <chr> & <chr> & <int> & <int> & <chr> & <int>\\\\\n",
       "\\hline\n",
       "\t1 & 0 &   25454 & 3 & 2019-03-26 15:11:00.000-07:00 & 0 & 0.0 & 3 & 5 & 97219      & 49040 & 13 & 27.95 & 1 & 2019-03-24 03:56:49.000-07:00 & 2019-03-29 & 5 & 1 & LETTER                 & 1\\\\\n",
       "\t2 & 1 & 6727381 & 2 & 2018-06-02 12:53:00.000-07:00 & 0 & 3.0 & 3 & 5 & 11415-3528 & 62521 &  0 & 20.50 & 1 & 2018-06-01 13:43:54.000-07:00 & 2018-06-05 & 0 & 1 & PACKAGE\\_THICK\\_ENVELOPE & 2\\\\\n",
       "\t3 & 0 &   18507 & 1 & 2019-01-07 16:22:00.000-05:00 & 0 & 4.5 & 3 & 5 & 27292      & 53010 &  1 & 19.90 & 1 & 2019-01-06 00:02:00.000-05:00 & 2019-01-10 & 9 & 1 & PACKAGE\\_THICK\\_ENVELOPE & 3\\\\\n",
       "\t4 & 0 &    4677 & 1 & 2018-12-17 16:56:00.000-08:00 & 0 & 0.0 & 3 & 5 & 90703      & 80022 &  1 & 35.50 & 1 & 2018-12-16 10:28:28.000-08:00 & 2018-12-21 & 8 & 1 & PACKAGE\\_THICK\\_ENVELOPE & 4\\\\\n",
       "\t5 & 0 &    4677 & 1 & 2018-07-27 16:48:00.000-07:00 & 0 & 0.0 & 3 & 5 & 90703      & 55070 &  1 & 25.00 & 1 & 2018-07-26 18:20:02.000-07:00 & 2018-07-30 & 3 & 1 & PACKAGE\\_THICK\\_ENVELOPE & 5\\\\\n",
       "\t6 & 0 &   10514 & 1 & 2019-04-19 19:42:00.000-04:00 & 0 & 0.0 & 3 & 5 & 43215      & 77063 &  3 & 10.39 & 1 & 2019-04-18 14:11:09.000-04:00 & 2019-04-22 & 1 & 1 & PACKAGE\\_THICK\\_ENVELOPE & 6\\\\\n",
       "\\end{tabular}\n"
      ],
      "text/markdown": [
       "\n",
       "A data.frame: 6 × 19\n",
       "\n",
       "| <!--/--> | b2c_c2c &lt;dbl&gt; | seller_id &lt;int&gt; | declared_handling_days &lt;dbl&gt; | acceptance_scan_timestamp &lt;chr&gt; | shipment_method_id &lt;int&gt; | shipping_fee &lt;dbl&gt; | carrier_min_estimate &lt;int&gt; | carrier_max_estimate &lt;int&gt; | item_zip &lt;chr&gt; | buyer_zip &lt;chr&gt; | category_id &lt;int&gt; | item_price &lt;dbl&gt; | quantity &lt;int&gt; | payment_datetime &lt;chr&gt; | delivery_date &lt;chr&gt; | weight &lt;int&gt; | weight_units &lt;int&gt; | package_size &lt;chr&gt; | record_number &lt;int&gt; |\n",
       "|---|---|---|---|---|---|---|---|---|---|---|---|---|---|---|---|---|---|---|---|\n",
       "| 1 | 0 |   25454 | 3 | 2019-03-26 15:11:00.000-07:00 | 0 | 0.0 | 3 | 5 | 97219      | 49040 | 13 | 27.95 | 1 | 2019-03-24 03:56:49.000-07:00 | 2019-03-29 | 5 | 1 | LETTER                 | 1 |\n",
       "| 2 | 1 | 6727381 | 2 | 2018-06-02 12:53:00.000-07:00 | 0 | 3.0 | 3 | 5 | 11415-3528 | 62521 |  0 | 20.50 | 1 | 2018-06-01 13:43:54.000-07:00 | 2018-06-05 | 0 | 1 | PACKAGE_THICK_ENVELOPE | 2 |\n",
       "| 3 | 0 |   18507 | 1 | 2019-01-07 16:22:00.000-05:00 | 0 | 4.5 | 3 | 5 | 27292      | 53010 |  1 | 19.90 | 1 | 2019-01-06 00:02:00.000-05:00 | 2019-01-10 | 9 | 1 | PACKAGE_THICK_ENVELOPE | 3 |\n",
       "| 4 | 0 |    4677 | 1 | 2018-12-17 16:56:00.000-08:00 | 0 | 0.0 | 3 | 5 | 90703      | 80022 |  1 | 35.50 | 1 | 2018-12-16 10:28:28.000-08:00 | 2018-12-21 | 8 | 1 | PACKAGE_THICK_ENVELOPE | 4 |\n",
       "| 5 | 0 |    4677 | 1 | 2018-07-27 16:48:00.000-07:00 | 0 | 0.0 | 3 | 5 | 90703      | 55070 |  1 | 25.00 | 1 | 2018-07-26 18:20:02.000-07:00 | 2018-07-30 | 3 | 1 | PACKAGE_THICK_ENVELOPE | 5 |\n",
       "| 6 | 0 |   10514 | 1 | 2019-04-19 19:42:00.000-04:00 | 0 | 0.0 | 3 | 5 | 43215      | 77063 |  3 | 10.39 | 1 | 2019-04-18 14:11:09.000-04:00 | 2019-04-22 | 1 | 1 | PACKAGE_THICK_ENVELOPE | 6 |\n",
       "\n"
      ],
      "text/plain": [
       "  b2c_c2c seller_id declared_handling_days acceptance_scan_timestamp    \n",
       "1 0         25454   3                      2019-03-26 15:11:00.000-07:00\n",
       "2 1       6727381   2                      2018-06-02 12:53:00.000-07:00\n",
       "3 0         18507   1                      2019-01-07 16:22:00.000-05:00\n",
       "4 0          4677   1                      2018-12-17 16:56:00.000-08:00\n",
       "5 0          4677   1                      2018-07-27 16:48:00.000-07:00\n",
       "6 0         10514   1                      2019-04-19 19:42:00.000-04:00\n",
       "  shipment_method_id shipping_fee carrier_min_estimate carrier_max_estimate\n",
       "1 0                  0.0          3                    5                   \n",
       "2 0                  3.0          3                    5                   \n",
       "3 0                  4.5          3                    5                   \n",
       "4 0                  0.0          3                    5                   \n",
       "5 0                  0.0          3                    5                   \n",
       "6 0                  0.0          3                    5                   \n",
       "  item_zip   buyer_zip category_id item_price quantity\n",
       "1 97219      49040     13          27.95      1       \n",
       "2 11415-3528 62521      0          20.50      1       \n",
       "3 27292      53010      1          19.90      1       \n",
       "4 90703      80022      1          35.50      1       \n",
       "5 90703      55070      1          25.00      1       \n",
       "6 43215      77063      3          10.39      1       \n",
       "  payment_datetime              delivery_date weight weight_units\n",
       "1 2019-03-24 03:56:49.000-07:00 2019-03-29    5      1           \n",
       "2 2018-06-01 13:43:54.000-07:00 2018-06-05    0      1           \n",
       "3 2019-01-06 00:02:00.000-05:00 2019-01-10    9      1           \n",
       "4 2018-12-16 10:28:28.000-08:00 2018-12-21    8      1           \n",
       "5 2018-07-26 18:20:02.000-07:00 2018-07-30    3      1           \n",
       "6 2019-04-18 14:11:09.000-04:00 2019-04-22    1      1           \n",
       "  package_size           record_number\n",
       "1 LETTER                 1            \n",
       "2 PACKAGE_THICK_ENVELOPE 2            \n",
       "3 PACKAGE_THICK_ENVELOPE 3            \n",
       "4 PACKAGE_THICK_ENVELOPE 4            \n",
       "5 PACKAGE_THICK_ENVELOPE 5            \n",
       "6 PACKAGE_THICK_ENVELOPE 6            "
      ]
     },
     "metadata": {},
     "output_type": "display_data"
    }
   ],
   "source": [
    "head(data)"
   ]
  },
  {
   "cell_type": "code",
   "execution_count": 13,
   "id": "e37b3659",
   "metadata": {
    "execution": {
     "iopub.execute_input": "2022-12-09T22:18:13.313973Z",
     "iopub.status.busy": "2022-12-09T22:18:13.312678Z",
     "iopub.status.idle": "2022-12-09T22:18:25.091221Z",
     "shell.execute_reply": "2022-12-09T22:18:25.089817Z"
    },
    "papermill": {
     "duration": 11.79887,
     "end_time": "2022-12-09T22:18:25.093113",
     "exception": false,
     "start_time": "2022-12-09T22:18:13.294243",
     "status": "completed"
    },
    "tags": []
   },
   "outputs": [
    {
     "data": {
      "text/plain": [
       "    b2c_c2c        seller_id       declared_handling_days\n",
       " Min.   :0.000   Min.   :      0   Min.   : 0.0          \n",
       " 1st Qu.:0.000   1st Qu.:   5018   1st Qu.: 1.0          \n",
       " Median :0.000   Median :  37436   Median : 1.0          \n",
       " Mean   :0.291   Mean   : 271104   Mean   : 1.6          \n",
       " 3rd Qu.:1.000   3rd Qu.: 203533   3rd Qu.: 2.0          \n",
       " Max.   :1.000   Max.   :7266448   Max.   :40.0          \n",
       "                                   NA's   :702886        \n",
       " acceptance_scan_timestamp shipment_method_id  shipping_fee     \n",
       " Length:15000000           Min.   : 0.0000    Min.   :  -3.000  \n",
       " Class :character          1st Qu.: 0.0000    1st Qu.:   0.000  \n",
       " Mode  :character          Median : 0.0000    Median :   0.000  \n",
       "                           Mean   : 0.8819    Mean   :   2.812  \n",
       "                           3rd Qu.: 1.0000    3rd Qu.:   4.000  \n",
       "                           Max.   :26.0000    Max.   :2000.000  \n",
       "                                                                \n",
       " carrier_min_estimate carrier_max_estimate   item_zip        \n",
       " Min.   :-1.000       Min.   :-1.000       Length:15000000   \n",
       " 1st Qu.: 2.000       1st Qu.: 5.000       Class :character  \n",
       " Median : 3.000       Median : 5.000       Mode  :character  \n",
       " Mean   : 2.622       Mean   : 5.462                         \n",
       " 3rd Qu.: 3.000       3rd Qu.: 5.000                         \n",
       " Max.   : 6.000       Max.   :25.000                         \n",
       "                                                             \n",
       "  buyer_zip          category_id       item_price          quantity      \n",
       " Length:15000000    Min.   : 0.000   Min.   :    0.00   Min.   :  1.000  \n",
       " Class :character   1st Qu.: 1.000   1st Qu.:    8.75   1st Qu.:  1.000  \n",
       " Mode  :character   Median : 5.000   Median :   15.00   Median :  1.000  \n",
       "                    Mean   : 6.755   Mean   :   36.14   Mean   :  1.106  \n",
       "                    3rd Qu.:11.000   3rd Qu.:   30.25   3rd Qu.:  1.000  \n",
       "                    Max.   :32.000   Max.   :60000.00   Max.   :775.000  \n",
       "                                                                         \n",
       " payment_datetime   delivery_date          weight          weight_units\n",
       " Length:15000000    Length:15000000    Min.   :     0.0   Min.   :1    \n",
       " Class :character   Class :character   1st Qu.:     0.0   1st Qu.:1    \n",
       " Mode  :character   Mode  :character   Median :     4.0   Median :1    \n",
       "                                       Mean   :    16.1   Mean   :1    \n",
       "                                       3rd Qu.:    16.0   3rd Qu.:1    \n",
       "                                       Max.   :695664.0   Max.   :2    \n",
       "                                                                       \n",
       " package_size       record_number     \n",
       " Length:15000000    Min.   :       1  \n",
       " Class :character   1st Qu.: 3750001  \n",
       " Mode  :character   Median : 7500000  \n",
       "                    Mean   : 7500000  \n",
       "                    3rd Qu.:11250000  \n",
       "                    Max.   :15000000  \n",
       "                                      "
      ]
     },
     "metadata": {},
     "output_type": "display_data"
    }
   ],
   "source": [
    "#checking for the summary of the data to understand columnwise what is happening in each column\n",
    "summary(data)"
   ]
  },
  {
   "cell_type": "code",
   "execution_count": 14,
   "id": "26c0ec39",
   "metadata": {
    "execution": {
     "iopub.execute_input": "2022-12-09T22:18:25.113609Z",
     "iopub.status.busy": "2022-12-09T22:18:25.112323Z",
     "iopub.status.idle": "2022-12-09T22:18:26.003558Z",
     "shell.execute_reply": "2022-12-09T22:18:26.002000Z"
    },
    "papermill": {
     "duration": 0.903605,
     "end_time": "2022-12-09T22:18:26.005628",
     "exception": false,
     "start_time": "2022-12-09T22:18:25.102023",
     "status": "completed"
    },
    "tags": []
   },
   "outputs": [],
   "source": [
    "# library(tidyverse)\n",
    "#preparing data for conversion to numeric values, truncating zipcode value\n",
    "data$item_zip <- str_trunc(data$item_zip, 5, side = c(\"right\"),  ellipsis = \"\")\n",
    "data$buyer_zip <- str_trunc(data$buyer_zip, 5, side = c(\"right\"),  ellipsis = \"\")"
   ]
  },
  {
   "cell_type": "code",
   "execution_count": 15,
   "id": "af2e084d",
   "metadata": {
    "execution": {
     "iopub.execute_input": "2022-12-09T22:18:26.027590Z",
     "iopub.status.busy": "2022-12-09T22:18:26.026274Z",
     "iopub.status.idle": "2022-12-09T22:18:26.036194Z",
     "shell.execute_reply": "2022-12-09T22:18:26.034844Z"
    },
    "papermill": {
     "duration": 0.022881,
     "end_time": "2022-12-09T22:18:26.038146",
     "exception": false,
     "start_time": "2022-12-09T22:18:26.015265",
     "status": "completed"
    },
    "tags": []
   },
   "outputs": [],
   "source": [
    "# #preparing data for conversion to numeric values\n",
    "# data$item_zip <- gsub(\"-\", \"\", data$item_zip)\n",
    "# data$buyer_zip <- gsub(\"-\", \"\", data$buyer_zip)"
   ]
  },
  {
   "cell_type": "code",
   "execution_count": 16,
   "id": "83f3bd05",
   "metadata": {
    "execution": {
     "iopub.execute_input": "2022-12-09T22:18:26.060030Z",
     "iopub.status.busy": "2022-12-09T22:18:26.058799Z",
     "iopub.status.idle": "2022-12-09T22:18:30.284395Z",
     "shell.execute_reply": "2022-12-09T22:18:30.282773Z"
    },
    "papermill": {
     "duration": 4.239215,
     "end_time": "2022-12-09T22:18:30.287131",
     "exception": false,
     "start_time": "2022-12-09T22:18:26.047916",
     "status": "completed"
    },
    "tags": []
   },
   "outputs": [
    {
     "name": "stderr",
     "output_type": "stream",
     "text": [
      "Warning message in eval(expr, envir, enclos):\n",
      "“NAs introduced by coercion”\n",
      "Warning message in eval(expr, envir, enclos):\n",
      "“NAs introduced by coercion”\n"
     ]
    }
   ],
   "source": [
    "#converting to numeric\n",
    "data$item_zip = as.numeric(as.character(data$item_zip))\n",
    "data$buyer_zip = as.numeric(as.character(data$buyer_zip))"
   ]
  },
  {
   "cell_type": "code",
   "execution_count": 17,
   "id": "990b5e70",
   "metadata": {
    "execution": {
     "iopub.execute_input": "2022-12-09T22:18:30.309130Z",
     "iopub.status.busy": "2022-12-09T22:18:30.307691Z",
     "iopub.status.idle": "2022-12-09T22:18:30.331859Z",
     "shell.execute_reply": "2022-12-09T22:18:30.330499Z"
    },
    "papermill": {
     "duration": 0.037097,
     "end_time": "2022-12-09T22:18:30.333604",
     "exception": false,
     "start_time": "2022-12-09T22:18:30.296507",
     "status": "completed"
    },
    "tags": []
   },
   "outputs": [
    {
     "data": {
      "text/html": [
       "<table class=\"dataframe\">\n",
       "<caption>A data.frame: 6 × 19</caption>\n",
       "<thead>\n",
       "\t<tr><th></th><th scope=col>b2c_c2c</th><th scope=col>seller_id</th><th scope=col>declared_handling_days</th><th scope=col>acceptance_scan_timestamp</th><th scope=col>shipment_method_id</th><th scope=col>shipping_fee</th><th scope=col>carrier_min_estimate</th><th scope=col>carrier_max_estimate</th><th scope=col>item_zip</th><th scope=col>buyer_zip</th><th scope=col>category_id</th><th scope=col>item_price</th><th scope=col>quantity</th><th scope=col>payment_datetime</th><th scope=col>delivery_date</th><th scope=col>weight</th><th scope=col>weight_units</th><th scope=col>package_size</th><th scope=col>record_number</th></tr>\n",
       "\t<tr><th></th><th scope=col>&lt;dbl&gt;</th><th scope=col>&lt;int&gt;</th><th scope=col>&lt;dbl&gt;</th><th scope=col>&lt;chr&gt;</th><th scope=col>&lt;int&gt;</th><th scope=col>&lt;dbl&gt;</th><th scope=col>&lt;int&gt;</th><th scope=col>&lt;int&gt;</th><th scope=col>&lt;dbl&gt;</th><th scope=col>&lt;dbl&gt;</th><th scope=col>&lt;int&gt;</th><th scope=col>&lt;dbl&gt;</th><th scope=col>&lt;int&gt;</th><th scope=col>&lt;chr&gt;</th><th scope=col>&lt;chr&gt;</th><th scope=col>&lt;int&gt;</th><th scope=col>&lt;int&gt;</th><th scope=col>&lt;chr&gt;</th><th scope=col>&lt;int&gt;</th></tr>\n",
       "</thead>\n",
       "<tbody>\n",
       "\t<tr><th scope=row>1</th><td>0</td><td>  25454</td><td>3</td><td>2019-03-26 15:11:00.000-07:00</td><td>0</td><td>0.0</td><td>3</td><td>5</td><td>97219</td><td>49040</td><td>13</td><td>27.95</td><td>1</td><td>2019-03-24 03:56:49.000-07:00</td><td>2019-03-29</td><td>5</td><td>1</td><td>LETTER                </td><td>1</td></tr>\n",
       "\t<tr><th scope=row>2</th><td>1</td><td>6727381</td><td>2</td><td>2018-06-02 12:53:00.000-07:00</td><td>0</td><td>3.0</td><td>3</td><td>5</td><td>11415</td><td>62521</td><td> 0</td><td>20.50</td><td>1</td><td>2018-06-01 13:43:54.000-07:00</td><td>2018-06-05</td><td>0</td><td>1</td><td>PACKAGE_THICK_ENVELOPE</td><td>2</td></tr>\n",
       "\t<tr><th scope=row>3</th><td>0</td><td>  18507</td><td>1</td><td>2019-01-07 16:22:00.000-05:00</td><td>0</td><td>4.5</td><td>3</td><td>5</td><td>27292</td><td>53010</td><td> 1</td><td>19.90</td><td>1</td><td>2019-01-06 00:02:00.000-05:00</td><td>2019-01-10</td><td>9</td><td>1</td><td>PACKAGE_THICK_ENVELOPE</td><td>3</td></tr>\n",
       "\t<tr><th scope=row>4</th><td>0</td><td>   4677</td><td>1</td><td>2018-12-17 16:56:00.000-08:00</td><td>0</td><td>0.0</td><td>3</td><td>5</td><td>90703</td><td>80022</td><td> 1</td><td>35.50</td><td>1</td><td>2018-12-16 10:28:28.000-08:00</td><td>2018-12-21</td><td>8</td><td>1</td><td>PACKAGE_THICK_ENVELOPE</td><td>4</td></tr>\n",
       "\t<tr><th scope=row>5</th><td>0</td><td>   4677</td><td>1</td><td>2018-07-27 16:48:00.000-07:00</td><td>0</td><td>0.0</td><td>3</td><td>5</td><td>90703</td><td>55070</td><td> 1</td><td>25.00</td><td>1</td><td>2018-07-26 18:20:02.000-07:00</td><td>2018-07-30</td><td>3</td><td>1</td><td>PACKAGE_THICK_ENVELOPE</td><td>5</td></tr>\n",
       "\t<tr><th scope=row>6</th><td>0</td><td>  10514</td><td>1</td><td>2019-04-19 19:42:00.000-04:00</td><td>0</td><td>0.0</td><td>3</td><td>5</td><td>43215</td><td>77063</td><td> 3</td><td>10.39</td><td>1</td><td>2019-04-18 14:11:09.000-04:00</td><td>2019-04-22</td><td>1</td><td>1</td><td>PACKAGE_THICK_ENVELOPE</td><td>6</td></tr>\n",
       "</tbody>\n",
       "</table>\n"
      ],
      "text/latex": [
       "A data.frame: 6 × 19\n",
       "\\begin{tabular}{r|lllllllllllllllllll}\n",
       "  & b2c\\_c2c & seller\\_id & declared\\_handling\\_days & acceptance\\_scan\\_timestamp & shipment\\_method\\_id & shipping\\_fee & carrier\\_min\\_estimate & carrier\\_max\\_estimate & item\\_zip & buyer\\_zip & category\\_id & item\\_price & quantity & payment\\_datetime & delivery\\_date & weight & weight\\_units & package\\_size & record\\_number\\\\\n",
       "  & <dbl> & <int> & <dbl> & <chr> & <int> & <dbl> & <int> & <int> & <dbl> & <dbl> & <int> & <dbl> & <int> & <chr> & <chr> & <int> & <int> & <chr> & <int>\\\\\n",
       "\\hline\n",
       "\t1 & 0 &   25454 & 3 & 2019-03-26 15:11:00.000-07:00 & 0 & 0.0 & 3 & 5 & 97219 & 49040 & 13 & 27.95 & 1 & 2019-03-24 03:56:49.000-07:00 & 2019-03-29 & 5 & 1 & LETTER                 & 1\\\\\n",
       "\t2 & 1 & 6727381 & 2 & 2018-06-02 12:53:00.000-07:00 & 0 & 3.0 & 3 & 5 & 11415 & 62521 &  0 & 20.50 & 1 & 2018-06-01 13:43:54.000-07:00 & 2018-06-05 & 0 & 1 & PACKAGE\\_THICK\\_ENVELOPE & 2\\\\\n",
       "\t3 & 0 &   18507 & 1 & 2019-01-07 16:22:00.000-05:00 & 0 & 4.5 & 3 & 5 & 27292 & 53010 &  1 & 19.90 & 1 & 2019-01-06 00:02:00.000-05:00 & 2019-01-10 & 9 & 1 & PACKAGE\\_THICK\\_ENVELOPE & 3\\\\\n",
       "\t4 & 0 &    4677 & 1 & 2018-12-17 16:56:00.000-08:00 & 0 & 0.0 & 3 & 5 & 90703 & 80022 &  1 & 35.50 & 1 & 2018-12-16 10:28:28.000-08:00 & 2018-12-21 & 8 & 1 & PACKAGE\\_THICK\\_ENVELOPE & 4\\\\\n",
       "\t5 & 0 &    4677 & 1 & 2018-07-27 16:48:00.000-07:00 & 0 & 0.0 & 3 & 5 & 90703 & 55070 &  1 & 25.00 & 1 & 2018-07-26 18:20:02.000-07:00 & 2018-07-30 & 3 & 1 & PACKAGE\\_THICK\\_ENVELOPE & 5\\\\\n",
       "\t6 & 0 &   10514 & 1 & 2019-04-19 19:42:00.000-04:00 & 0 & 0.0 & 3 & 5 & 43215 & 77063 &  3 & 10.39 & 1 & 2019-04-18 14:11:09.000-04:00 & 2019-04-22 & 1 & 1 & PACKAGE\\_THICK\\_ENVELOPE & 6\\\\\n",
       "\\end{tabular}\n"
      ],
      "text/markdown": [
       "\n",
       "A data.frame: 6 × 19\n",
       "\n",
       "| <!--/--> | b2c_c2c &lt;dbl&gt; | seller_id &lt;int&gt; | declared_handling_days &lt;dbl&gt; | acceptance_scan_timestamp &lt;chr&gt; | shipment_method_id &lt;int&gt; | shipping_fee &lt;dbl&gt; | carrier_min_estimate &lt;int&gt; | carrier_max_estimate &lt;int&gt; | item_zip &lt;dbl&gt; | buyer_zip &lt;dbl&gt; | category_id &lt;int&gt; | item_price &lt;dbl&gt; | quantity &lt;int&gt; | payment_datetime &lt;chr&gt; | delivery_date &lt;chr&gt; | weight &lt;int&gt; | weight_units &lt;int&gt; | package_size &lt;chr&gt; | record_number &lt;int&gt; |\n",
       "|---|---|---|---|---|---|---|---|---|---|---|---|---|---|---|---|---|---|---|---|\n",
       "| 1 | 0 |   25454 | 3 | 2019-03-26 15:11:00.000-07:00 | 0 | 0.0 | 3 | 5 | 97219 | 49040 | 13 | 27.95 | 1 | 2019-03-24 03:56:49.000-07:00 | 2019-03-29 | 5 | 1 | LETTER                 | 1 |\n",
       "| 2 | 1 | 6727381 | 2 | 2018-06-02 12:53:00.000-07:00 | 0 | 3.0 | 3 | 5 | 11415 | 62521 |  0 | 20.50 | 1 | 2018-06-01 13:43:54.000-07:00 | 2018-06-05 | 0 | 1 | PACKAGE_THICK_ENVELOPE | 2 |\n",
       "| 3 | 0 |   18507 | 1 | 2019-01-07 16:22:00.000-05:00 | 0 | 4.5 | 3 | 5 | 27292 | 53010 |  1 | 19.90 | 1 | 2019-01-06 00:02:00.000-05:00 | 2019-01-10 | 9 | 1 | PACKAGE_THICK_ENVELOPE | 3 |\n",
       "| 4 | 0 |    4677 | 1 | 2018-12-17 16:56:00.000-08:00 | 0 | 0.0 | 3 | 5 | 90703 | 80022 |  1 | 35.50 | 1 | 2018-12-16 10:28:28.000-08:00 | 2018-12-21 | 8 | 1 | PACKAGE_THICK_ENVELOPE | 4 |\n",
       "| 5 | 0 |    4677 | 1 | 2018-07-27 16:48:00.000-07:00 | 0 | 0.0 | 3 | 5 | 90703 | 55070 |  1 | 25.00 | 1 | 2018-07-26 18:20:02.000-07:00 | 2018-07-30 | 3 | 1 | PACKAGE_THICK_ENVELOPE | 5 |\n",
       "| 6 | 0 |   10514 | 1 | 2019-04-19 19:42:00.000-04:00 | 0 | 0.0 | 3 | 5 | 43215 | 77063 |  3 | 10.39 | 1 | 2019-04-18 14:11:09.000-04:00 | 2019-04-22 | 1 | 1 | PACKAGE_THICK_ENVELOPE | 6 |\n",
       "\n"
      ],
      "text/plain": [
       "  b2c_c2c seller_id declared_handling_days acceptance_scan_timestamp    \n",
       "1 0         25454   3                      2019-03-26 15:11:00.000-07:00\n",
       "2 1       6727381   2                      2018-06-02 12:53:00.000-07:00\n",
       "3 0         18507   1                      2019-01-07 16:22:00.000-05:00\n",
       "4 0          4677   1                      2018-12-17 16:56:00.000-08:00\n",
       "5 0          4677   1                      2018-07-27 16:48:00.000-07:00\n",
       "6 0         10514   1                      2019-04-19 19:42:00.000-04:00\n",
       "  shipment_method_id shipping_fee carrier_min_estimate carrier_max_estimate\n",
       "1 0                  0.0          3                    5                   \n",
       "2 0                  3.0          3                    5                   \n",
       "3 0                  4.5          3                    5                   \n",
       "4 0                  0.0          3                    5                   \n",
       "5 0                  0.0          3                    5                   \n",
       "6 0                  0.0          3                    5                   \n",
       "  item_zip buyer_zip category_id item_price quantity\n",
       "1 97219    49040     13          27.95      1       \n",
       "2 11415    62521      0          20.50      1       \n",
       "3 27292    53010      1          19.90      1       \n",
       "4 90703    80022      1          35.50      1       \n",
       "5 90703    55070      1          25.00      1       \n",
       "6 43215    77063      3          10.39      1       \n",
       "  payment_datetime              delivery_date weight weight_units\n",
       "1 2019-03-24 03:56:49.000-07:00 2019-03-29    5      1           \n",
       "2 2018-06-01 13:43:54.000-07:00 2018-06-05    0      1           \n",
       "3 2019-01-06 00:02:00.000-05:00 2019-01-10    9      1           \n",
       "4 2018-12-16 10:28:28.000-08:00 2018-12-21    8      1           \n",
       "5 2018-07-26 18:20:02.000-07:00 2018-07-30    3      1           \n",
       "6 2019-04-18 14:11:09.000-04:00 2019-04-22    1      1           \n",
       "  package_size           record_number\n",
       "1 LETTER                 1            \n",
       "2 PACKAGE_THICK_ENVELOPE 2            \n",
       "3 PACKAGE_THICK_ENVELOPE 3            \n",
       "4 PACKAGE_THICK_ENVELOPE 4            \n",
       "5 PACKAGE_THICK_ENVELOPE 5            \n",
       "6 PACKAGE_THICK_ENVELOPE 6            "
      ]
     },
     "metadata": {},
     "output_type": "display_data"
    }
   ],
   "source": [
    "head(data)"
   ]
  },
  {
   "cell_type": "code",
   "execution_count": 18,
   "id": "9c2b91ee",
   "metadata": {
    "execution": {
     "iopub.execute_input": "2022-12-09T22:18:30.355317Z",
     "iopub.status.busy": "2022-12-09T22:18:30.353904Z",
     "iopub.status.idle": "2022-12-09T22:18:35.422570Z",
     "shell.execute_reply": "2022-12-09T22:18:35.421176Z"
    },
    "papermill": {
     "duration": 5.081579,
     "end_time": "2022-12-09T22:18:35.424479",
     "exception": false,
     "start_time": "2022-12-09T22:18:30.342900",
     "status": "completed"
    },
    "tags": []
   },
   "outputs": [
    {
     "data": {
      "text/html": [
       "<style>\n",
       ".dl-inline {width: auto; margin:0; padding: 0}\n",
       ".dl-inline>dt, .dl-inline>dd {float: none; width: auto; display: inline-block}\n",
       ".dl-inline>dt::after {content: \":\\0020\"; padding-right: .5ex}\n",
       ".dl-inline>dt:not(:first-of-type) {padding-left: .5ex}\n",
       "</style><dl class=dl-inline><dt>b2c_c2c</dt><dd>0</dd><dt>seller_id</dt><dd>0</dd><dt>declared_handling_days</dt><dd>702886</dd><dt>acceptance_scan_timestamp</dt><dd>0</dd><dt>shipment_method_id</dt><dd>0</dd><dt>shipping_fee</dt><dd>0</dd><dt>carrier_min_estimate</dt><dd>0</dd><dt>carrier_max_estimate</dt><dd>0</dd><dt>item_zip</dt><dd>5001</dd><dt>buyer_zip</dt><dd>606</dd><dt>category_id</dt><dd>0</dd><dt>item_price</dt><dd>0</dd><dt>quantity</dt><dd>0</dd><dt>payment_datetime</dt><dd>0</dd><dt>delivery_date</dt><dd>0</dd><dt>weight</dt><dd>0</dd><dt>weight_units</dt><dd>0</dd><dt>package_size</dt><dd>0</dd><dt>record_number</dt><dd>0</dd></dl>\n"
      ],
      "text/latex": [
       "\\begin{description*}\n",
       "\\item[b2c\\textbackslash{}\\_c2c] 0\n",
       "\\item[seller\\textbackslash{}\\_id] 0\n",
       "\\item[declared\\textbackslash{}\\_handling\\textbackslash{}\\_days] 702886\n",
       "\\item[acceptance\\textbackslash{}\\_scan\\textbackslash{}\\_timestamp] 0\n",
       "\\item[shipment\\textbackslash{}\\_method\\textbackslash{}\\_id] 0\n",
       "\\item[shipping\\textbackslash{}\\_fee] 0\n",
       "\\item[carrier\\textbackslash{}\\_min\\textbackslash{}\\_estimate] 0\n",
       "\\item[carrier\\textbackslash{}\\_max\\textbackslash{}\\_estimate] 0\n",
       "\\item[item\\textbackslash{}\\_zip] 5001\n",
       "\\item[buyer\\textbackslash{}\\_zip] 606\n",
       "\\item[category\\textbackslash{}\\_id] 0\n",
       "\\item[item\\textbackslash{}\\_price] 0\n",
       "\\item[quantity] 0\n",
       "\\item[payment\\textbackslash{}\\_datetime] 0\n",
       "\\item[delivery\\textbackslash{}\\_date] 0\n",
       "\\item[weight] 0\n",
       "\\item[weight\\textbackslash{}\\_units] 0\n",
       "\\item[package\\textbackslash{}\\_size] 0\n",
       "\\item[record\\textbackslash{}\\_number] 0\n",
       "\\end{description*}\n"
      ],
      "text/markdown": [
       "b2c_c2c\n",
       ":   0seller_id\n",
       ":   0declared_handling_days\n",
       ":   702886acceptance_scan_timestamp\n",
       ":   0shipment_method_id\n",
       ":   0shipping_fee\n",
       ":   0carrier_min_estimate\n",
       ":   0carrier_max_estimate\n",
       ":   0item_zip\n",
       ":   5001buyer_zip\n",
       ":   606category_id\n",
       ":   0item_price\n",
       ":   0quantity\n",
       ":   0payment_datetime\n",
       ":   0delivery_date\n",
       ":   0weight\n",
       ":   0weight_units\n",
       ":   0package_size\n",
       ":   0record_number\n",
       ":   0\n",
       "\n"
      ],
      "text/plain": [
       "                  b2c_c2c                 seller_id    declared_handling_days \n",
       "                        0                         0                    702886 \n",
       "acceptance_scan_timestamp        shipment_method_id              shipping_fee \n",
       "                        0                         0                         0 \n",
       "     carrier_min_estimate      carrier_max_estimate                  item_zip \n",
       "                        0                         0                      5001 \n",
       "                buyer_zip               category_id                item_price \n",
       "                      606                         0                         0 \n",
       "                 quantity          payment_datetime             delivery_date \n",
       "                        0                         0                         0 \n",
       "                   weight              weight_units              package_size \n",
       "                        0                         0                         0 \n",
       "            record_number \n",
       "                        0 "
      ]
     },
     "metadata": {},
     "output_type": "display_data"
    }
   ],
   "source": [
    "#checkig how many null values exist is datafram\n",
    "# sum(is.na(df))\n",
    "colSums(is.na(data))"
   ]
  },
  {
   "cell_type": "code",
   "execution_count": 19,
   "id": "9131ac11",
   "metadata": {
    "execution": {
     "iopub.execute_input": "2022-12-09T22:18:35.447991Z",
     "iopub.status.busy": "2022-12-09T22:18:35.446205Z",
     "iopub.status.idle": "2022-12-09T22:18:59.909733Z",
     "shell.execute_reply": "2022-12-09T22:18:59.908242Z"
    },
    "papermill": {
     "duration": 24.477816,
     "end_time": "2022-12-09T22:18:59.911876",
     "exception": false,
     "start_time": "2022-12-09T22:18:35.434060",
     "status": "completed"
    },
    "tags": []
   },
   "outputs": [],
   "source": [
    "# drop values where zip codes are NA\n",
    "data <- data[!is.na(data$item_zip),]\n",
    "data <- data[!is.na(data$buyer_zip),]"
   ]
  },
  {
   "cell_type": "code",
   "execution_count": 20,
   "id": "2694590e",
   "metadata": {
    "execution": {
     "iopub.execute_input": "2022-12-09T22:18:59.934404Z",
     "iopub.status.busy": "2022-12-09T22:18:59.933156Z",
     "iopub.status.idle": "2022-12-09T22:19:02.115387Z",
     "shell.execute_reply": "2022-12-09T22:19:02.114026Z"
    },
    "papermill": {
     "duration": 2.195825,
     "end_time": "2022-12-09T22:19:02.117558",
     "exception": false,
     "start_time": "2022-12-09T22:18:59.921733",
     "status": "completed"
    },
    "tags": []
   },
   "outputs": [
    {
     "data": {
      "text/html": [
       "21"
      ],
      "text/latex": [
       "21"
      ],
      "text/markdown": [
       "21"
      ],
      "text/plain": [
       "[1] 21"
      ]
     },
     "metadata": {},
     "output_type": "display_data"
    }
   ],
   "source": [
    "#minimum shipping fee should not be negative so checking to see how any such values exist, neither should the carrier values.\n",
    "nrow(data[data$shipping_fee < 0,])"
   ]
  },
  {
   "cell_type": "code",
   "execution_count": 21,
   "id": "65eb17bd",
   "metadata": {
    "execution": {
     "iopub.execute_input": "2022-12-09T22:19:02.140192Z",
     "iopub.status.busy": "2022-12-09T22:19:02.138930Z",
     "iopub.status.idle": "2022-12-09T22:19:11.574229Z",
     "shell.execute_reply": "2022-12-09T22:19:11.572753Z"
    },
    "papermill": {
     "duration": 9.448764,
     "end_time": "2022-12-09T22:19:11.576119",
     "exception": false,
     "start_time": "2022-12-09T22:19:02.127355",
     "status": "completed"
    },
    "tags": []
   },
   "outputs": [],
   "source": [
    "#replacing neg values of shipping with zero\n",
    "data[data$shipping_fee < 0,] <- 0     # Set negative values to 0"
   ]
  },
  {
   "cell_type": "code",
   "execution_count": 22,
   "id": "b3fd5467",
   "metadata": {
    "execution": {
     "iopub.execute_input": "2022-12-09T22:19:11.598403Z",
     "iopub.status.busy": "2022-12-09T22:19:11.597122Z",
     "iopub.status.idle": "2022-12-09T22:19:11.812323Z",
     "shell.execute_reply": "2022-12-09T22:19:11.810933Z"
    },
    "papermill": {
     "duration": 0.228166,
     "end_time": "2022-12-09T22:19:11.814109",
     "exception": false,
     "start_time": "2022-12-09T22:19:11.585943",
     "status": "completed"
    },
    "tags": []
   },
   "outputs": [
    {
     "data": {
      "text/html": [
       "<style>\n",
       ".list-inline {list-style: none; margin:0; padding: 0}\n",
       ".list-inline>li {display: inline-block}\n",
       ".list-inline>li:not(:last-child)::after {content: \"\\00b7\"; padding: 0 .5ex}\n",
       "</style>\n",
       "<ol class=list-inline><li>'LETTER'</li><li>'PACKAGE_THICK_ENVELOPE'</li><li>'NONE'</li><li>'LARGE_PACKAGE'</li><li>'LARGE_ENVELOPE'</li><li>'0'</li><li>'EXTRA_LARGE_PACKAGE'</li><li>'VERY_LARGE_PACKAGE'</li></ol>\n"
      ],
      "text/latex": [
       "\\begin{enumerate*}\n",
       "\\item 'LETTER'\n",
       "\\item 'PACKAGE\\_THICK\\_ENVELOPE'\n",
       "\\item 'NONE'\n",
       "\\item 'LARGE\\_PACKAGE'\n",
       "\\item 'LARGE\\_ENVELOPE'\n",
       "\\item '0'\n",
       "\\item 'EXTRA\\_LARGE\\_PACKAGE'\n",
       "\\item 'VERY\\_LARGE\\_PACKAGE'\n",
       "\\end{enumerate*}\n"
      ],
      "text/markdown": [
       "1. 'LETTER'\n",
       "2. 'PACKAGE_THICK_ENVELOPE'\n",
       "3. 'NONE'\n",
       "4. 'LARGE_PACKAGE'\n",
       "5. 'LARGE_ENVELOPE'\n",
       "6. '0'\n",
       "7. 'EXTRA_LARGE_PACKAGE'\n",
       "8. 'VERY_LARGE_PACKAGE'\n",
       "\n",
       "\n"
      ],
      "text/plain": [
       "[1] \"LETTER\"                 \"PACKAGE_THICK_ENVELOPE\" \"NONE\"                  \n",
       "[4] \"LARGE_PACKAGE\"          \"LARGE_ENVELOPE\"         \"0\"                     \n",
       "[7] \"EXTRA_LARGE_PACKAGE\"    \"VERY_LARGE_PACKAGE\"    "
      ]
     },
     "metadata": {},
     "output_type": "display_data"
    }
   ],
   "source": [
    "#only pacakge_size column has character values that need to be encoded before feeding it into the model\n",
    "unique(data$package_size)#checking values in it"
   ]
  },
  {
   "cell_type": "code",
   "execution_count": 23,
   "id": "bae44e7d",
   "metadata": {
    "execution": {
     "iopub.execute_input": "2022-12-09T22:19:11.836646Z",
     "iopub.status.busy": "2022-12-09T22:19:11.835262Z",
     "iopub.status.idle": "2022-12-09T22:19:20.410694Z",
     "shell.execute_reply": "2022-12-09T22:19:20.409247Z"
    },
    "papermill": {
     "duration": 8.588896,
     "end_time": "2022-12-09T22:19:20.412841",
     "exception": false,
     "start_time": "2022-12-09T22:19:11.823945",
     "status": "completed"
    },
    "tags": []
   },
   "outputs": [
    {
     "data": {
      "text/html": [
       "21"
      ],
      "text/latex": [
       "21"
      ],
      "text/markdown": [
       "21"
      ],
      "text/plain": [
       "[1] 21"
      ]
     },
     "metadata": {},
     "output_type": "display_data"
    }
   ],
   "source": [
    "#checking how many zero values and if theyre of any significance\n",
    "nrow(data[data$package_size==0,]) #only 21 data points which seems to be incorrect so dropping these rows.\n",
    "data <- data[!(data$package_size ==0),]"
   ]
  },
  {
   "cell_type": "code",
   "execution_count": 24,
   "id": "7676a551",
   "metadata": {
    "execution": {
     "iopub.execute_input": "2022-12-09T22:19:20.436669Z",
     "iopub.status.busy": "2022-12-09T22:19:20.435305Z",
     "iopub.status.idle": "2022-12-09T22:19:32.763444Z",
     "shell.execute_reply": "2022-12-09T22:19:32.761957Z"
    },
    "papermill": {
     "duration": 12.342451,
     "end_time": "2022-12-09T22:19:32.765554",
     "exception": false,
     "start_time": "2022-12-09T22:19:20.423103",
     "status": "completed"
    },
    "tags": []
   },
   "outputs": [],
   "source": [
    "#converting all package weights to kg and then dropping weight units column.\n",
    "#if values in weight unit column = 1, then multiply weight*0.453592.\n",
    "\n",
    "data$weight<-ifelse(data$weight_units==1,data$weight*0.453592,data$weight)\n",
    "data = subset(data, select = -c(weight_units) )"
   ]
  },
  {
   "cell_type": "code",
   "execution_count": 25,
   "id": "485bc0da",
   "metadata": {
    "execution": {
     "iopub.execute_input": "2022-12-09T22:19:32.788810Z",
     "iopub.status.busy": "2022-12-09T22:19:32.787532Z",
     "iopub.status.idle": "2022-12-09T22:19:40.904192Z",
     "shell.execute_reply": "2022-12-09T22:19:40.902672Z"
    },
    "papermill": {
     "duration": 8.131084,
     "end_time": "2022-12-09T22:19:40.906729",
     "exception": false,
     "start_time": "2022-12-09T22:19:32.775645",
     "status": "completed"
    },
    "tags": []
   },
   "outputs": [],
   "source": [
    "#also weight of items cannot be 0 so checking how many such datapoints exist\n",
    "# nrow(data[data$weight==0,])\n",
    "# data <- data[!(data$weight ==0),]\n",
    "data <- data[!is.na(data$declared_handling_days),]"
   ]
  },
  {
   "cell_type": "code",
   "execution_count": 26,
   "id": "69a1cf30",
   "metadata": {
    "execution": {
     "iopub.execute_input": "2022-12-09T22:19:40.930184Z",
     "iopub.status.busy": "2022-12-09T22:19:40.928941Z",
     "iopub.status.idle": "2022-12-09T22:19:49.045512Z",
     "shell.execute_reply": "2022-12-09T22:19:49.044070Z"
    },
    "papermill": {
     "duration": 8.13097,
     "end_time": "2022-12-09T22:19:49.047904",
     "exception": false,
     "start_time": "2022-12-09T22:19:40.916934",
     "status": "completed"
    },
    "tags": []
   },
   "outputs": [],
   "source": [
    "# reset index of data table\n",
    "rownames(data) <- 1:nrow(data)  "
   ]
  },
  {
   "cell_type": "code",
   "execution_count": 27,
   "id": "96ac5396",
   "metadata": {
    "execution": {
     "iopub.execute_input": "2022-12-09T22:19:49.072385Z",
     "iopub.status.busy": "2022-12-09T22:19:49.070986Z",
     "iopub.status.idle": "2022-12-09T22:20:05.373230Z",
     "shell.execute_reply": "2022-12-09T22:20:05.369757Z"
    },
    "papermill": {
     "duration": 16.321499,
     "end_time": "2022-12-09T22:20:05.379788",
     "exception": false,
     "start_time": "2022-12-09T22:19:49.058289",
     "status": "completed"
    },
    "tags": []
   },
   "outputs": [
    {
     "data": {
      "image/png": "[encoded data removed]"
     },
     "metadata": {
      "image/png": {
       "height": 900,
       "width": 900
      }
     },
     "output_type": "display_data"
    }
   ],
   "source": [
    "#checking distribution of package types\n",
    "options(repr.plot.width = 15, repr.plot.height =15)\n",
    "ggplot(data, aes(x=as.factor(package_size), fill=as.factor(package_size) )) + \n",
    "  geom_bar( ) +\n",
    "  scale_fill_brewer(palette = \"Set1\") +\n",
    "  theme(legend.position=\"none\")"
   ]
  },
  {
   "cell_type": "code",
   "execution_count": 28,
   "id": "ba915120",
   "metadata": {
    "execution": {
     "iopub.execute_input": "2022-12-09T22:20:05.409551Z",
     "iopub.status.busy": "2022-12-09T22:20:05.407514Z",
     "iopub.status.idle": "2022-12-09T22:20:41.323247Z",
     "shell.execute_reply": "2022-12-09T22:20:41.320884Z"
    },
    "papermill": {
     "duration": 35.93348,
     "end_time": "2022-12-09T22:20:41.327123",
     "exception": false,
     "start_time": "2022-12-09T22:20:05.393643",
     "status": "completed"
    },
    "tags": []
   },
   "outputs": [],
   "source": [
    "#factorizing categorical columns\n",
    "data$declared_handling_days <-as.factor(data$declared_handling_days)\n",
    "data$shipment_method_id<-as.factor(data$shipment_method_id)\n",
    "data$package_size<- as.factor(as.numeric(as.factor(data$package_size)))\n",
    "data$category_id <- as.factor(data$category_id)"
   ]
  },
  {
   "cell_type": "code",
   "execution_count": 29,
   "id": "ff235399",
   "metadata": {
    "execution": {
     "iopub.execute_input": "2022-12-09T22:20:41.352922Z",
     "iopub.status.busy": "2022-12-09T22:20:41.351434Z",
     "iopub.status.idle": "2022-12-09T22:22:45.008624Z",
     "shell.execute_reply": "2022-12-09T22:22:45.006994Z"
    },
    "papermill": {
     "duration": 123.672652,
     "end_time": "2022-12-09T22:22:45.011120",
     "exception": false,
     "start_time": "2022-12-09T22:20:41.338468",
     "status": "completed"
    },
    "tags": []
   },
   "outputs": [],
   "source": [
    "#adding new column with average estimate of delivery time by using max and min of the column\n",
    "\n",
    "data$carrier_average_estimate <-apply(data[,7:8],1,mean)"
   ]
  },
  {
   "cell_type": "code",
   "execution_count": 30,
   "id": "224dbd51",
   "metadata": {
    "execution": {
     "iopub.execute_input": "2022-12-09T22:22:45.038181Z",
     "iopub.status.busy": "2022-12-09T22:22:45.036722Z",
     "iopub.status.idle": "2022-12-09T22:22:45.049914Z",
     "shell.execute_reply": "2022-12-09T22:22:45.047912Z"
    },
    "papermill": {
     "duration": 0.029951,
     "end_time": "2022-12-09T22:22:45.053204",
     "exception": false,
     "start_time": "2022-12-09T22:22:45.023253",
     "status": "completed"
    },
    "tags": []
   },
   "outputs": [],
   "source": [
    "library(zipcodeR)"
   ]
  },
  {
   "cell_type": "code",
   "execution_count": 31,
   "id": "3ddace22",
   "metadata": {
    "execution": {
     "iopub.execute_input": "2022-12-09T22:22:45.078233Z",
     "iopub.status.busy": "2022-12-09T22:22:45.076819Z",
     "iopub.status.idle": "2022-12-09T22:23:35.081972Z",
     "shell.execute_reply": "2022-12-09T22:23:35.080337Z"
    },
    "papermill": {
     "duration": 50.021168,
     "end_time": "2022-12-09T22:23:35.085076",
     "exception": false,
     "start_time": "2022-12-09T22:22:45.063908",
     "status": "completed"
    },
    "tags": []
   },
   "outputs": [],
   "source": [
    "#adding new column measuring distance between item and buyer zipcodes\n",
    "zip_distance <- data.frame(zip_distance(data$item_zip,data$buyer_zip)) #creating df of distance\n",
    "\n",
    "#appending distance to data table\n",
    "data <- data %>%\n",
    "  add_column(Add_Column = zip_distance$distance)\n",
    "\n",
    "\n",
    "#renaming column to \"zip_distance\"\n",
    "names(data)[names(data) == \"Add_Column\"] = \"zip_distance\""
   ]
  },
  {
   "cell_type": "code",
   "execution_count": 32,
   "id": "c7056159",
   "metadata": {
    "execution": {
     "iopub.execute_input": "2022-12-09T22:23:35.111476Z",
     "iopub.status.busy": "2022-12-09T22:23:35.110023Z",
     "iopub.status.idle": "2022-12-09T22:24:05.194571Z",
     "shell.execute_reply": "2022-12-09T22:24:05.192790Z"
    },
    "papermill": {
     "duration": 30.099962,
     "end_time": "2022-12-09T22:24:05.197625",
     "exception": false,
     "start_time": "2022-12-09T22:23:35.097663",
     "status": "completed"
    },
    "tags": []
   },
   "outputs": [],
   "source": [
    "#adding date columns for each attribute \n",
    "data$acceptance_date <-as.Date(data$acceptance_scan_timestamp)\n",
    "data$payment_date <-as.Date(data$payment_datetime)\n",
    "data$delivery_date <-as.Date(data$delivery_date)"
   ]
  },
  {
   "cell_type": "code",
   "execution_count": 33,
   "id": "dba40576",
   "metadata": {
    "execution": {
     "iopub.execute_input": "2022-12-09T22:24:05.223493Z",
     "iopub.status.busy": "2022-12-09T22:24:05.222034Z",
     "iopub.status.idle": "2022-12-09T22:24:05.237999Z",
     "shell.execute_reply": "2022-12-09T22:24:05.236473Z"
    },
    "papermill": {
     "duration": 0.030578,
     "end_time": "2022-12-09T22:24:05.240122",
     "exception": false,
     "start_time": "2022-12-09T22:24:05.209544",
     "status": "completed"
    },
    "tags": []
   },
   "outputs": [
    {
     "data": {
      "text/plain": [
       "Time difference of 5 days"
      ]
     },
     "metadata": {},
     "output_type": "display_data"
    }
   ],
   "source": [
    "#adding columns for total days from time of order to delivery\n",
    "data$delivery_date[1]-data$payment_date[1]"
   ]
  },
  {
   "cell_type": "code",
   "execution_count": 34,
   "id": "1f6de286",
   "metadata": {
    "execution": {
     "iopub.execute_input": "2022-12-09T22:24:05.265148Z",
     "iopub.status.busy": "2022-12-09T22:24:05.263665Z",
     "iopub.status.idle": "2022-12-09T22:24:05.275251Z",
     "shell.execute_reply": "2022-12-09T22:24:05.273573Z"
    },
    "papermill": {
     "duration": 0.026611,
     "end_time": "2022-12-09T22:24:05.277411",
     "exception": false,
     "start_time": "2022-12-09T22:24:05.250800",
     "status": "completed"
    },
    "tags": []
   },
   "outputs": [],
   "source": [
    "# data$acceptance_date <-as.Date(data$acceptance_scan_timestamp)\n",
    "# data$payment_date <-as.Date(data$payment_datetime)\n",
    "# data$delivery_date <-as.Date(data$delivery_date)"
   ]
  },
  {
   "cell_type": "code",
   "execution_count": 35,
   "id": "ac76c658",
   "metadata": {
    "execution": {
     "iopub.execute_input": "2022-12-09T22:24:05.302061Z",
     "iopub.status.busy": "2022-12-09T22:24:05.300521Z",
     "iopub.status.idle": "2022-12-09T22:24:17.197938Z",
     "shell.execute_reply": "2022-12-09T22:24:17.195676Z"
    },
    "papermill": {
     "duration": 11.913595,
     "end_time": "2022-12-09T22:24:17.201666",
     "exception": false,
     "start_time": "2022-12-09T22:24:05.288071",
     "status": "completed"
    },
    "tags": []
   },
   "outputs": [],
   "source": [
    "#calculating days to process order\n",
    "\n",
    "time_to_process= data.frame(data$acceptance_date-data$payment_date)\n",
    "# appending days_to_deliver to data table\n",
    "data <- data %>%\n",
    "  add_column(Add_Column = time_to_process$data.acceptance_date...data.payment_date)\n",
    "\n",
    "# renaming column\n",
    "names(data)[names(data) == \"Add_Column\"] = \"time_to_process\"\n",
    "# converting to numeric\n",
    "data$time_to_process <-as.numeric(as.character(data$time_to_process))"
   ]
  },
  {
   "cell_type": "code",
   "execution_count": 36,
   "id": "eff6e9db",
   "metadata": {
    "execution": {
     "iopub.execute_input": "2022-12-09T22:24:17.227178Z",
     "iopub.status.busy": "2022-12-09T22:24:17.225684Z",
     "iopub.status.idle": "2022-12-09T22:24:17.237486Z",
     "shell.execute_reply": "2022-12-09T22:24:17.235666Z"
    },
    "papermill": {
     "duration": 0.027944,
     "end_time": "2022-12-09T22:24:17.240685",
     "exception": false,
     "start_time": "2022-12-09T22:24:17.212741",
     "status": "completed"
    },
    "tags": []
   },
   "outputs": [],
   "source": [
    "# #calculating days from acceptance to delivery\n",
    "# time_to_process= data.frame(data$acceptance_date-data$payment_date)\n",
    "# # appending days_to_deliver to data table\n",
    "# data <- data %>%\n",
    "#   add_column(Add_Column = time_to_process$data.acceptance_date...data.payment_date)\n",
    "\n",
    "# # renaming column\n",
    "# names(data)[names(data) == \"Add_Column\"] = \"time_to_process\"\n",
    "# # converting to numeric\n",
    "# data$time_to_process <-as.numeric(as.character(data$time_to_process))"
   ]
  },
  {
   "cell_type": "code",
   "execution_count": 37,
   "id": "764995eb",
   "metadata": {
    "execution": {
     "iopub.execute_input": "2022-12-09T22:24:17.267443Z",
     "iopub.status.busy": "2022-12-09T22:24:17.265622Z",
     "iopub.status.idle": "2022-12-09T22:24:27.000241Z",
     "shell.execute_reply": "2022-12-09T22:24:26.998605Z"
    },
    "papermill": {
     "duration": 9.751073,
     "end_time": "2022-12-09T22:24:27.003351",
     "exception": false,
     "start_time": "2022-12-09T22:24:17.252278",
     "status": "completed"
    },
    "tags": []
   },
   "outputs": [],
   "source": [
    "#calculating days from acceptance to delivery\n",
    "data1= data.frame(data$delivery_date-data$acceptance_date)\n",
    "# appending days_to_deliver to data table\n",
    "data <- data %>%\n",
    "  add_column(Add_Column = data1$data.delivery_date...data.acceptance_date)\n",
    "\n",
    "# # renaming column\n",
    "names(data)[names(data) == \"Add_Column\"] = \"acceptance_to_delivery\"\n",
    "# # converting to numeric\n",
    "data$acceptance_to_delivery <-as.numeric(as.character(data$acceptance_to_delivery))"
   ]
  },
  {
   "cell_type": "code",
   "execution_count": 38,
   "id": "e4f1f7e2",
   "metadata": {
    "execution": {
     "iopub.execute_input": "2022-12-09T22:24:27.028039Z",
     "iopub.status.busy": "2022-12-09T22:24:27.026623Z",
     "iopub.status.idle": "2022-12-09T22:24:36.895247Z",
     "shell.execute_reply": "2022-12-09T22:24:36.893518Z"
    },
    "papermill": {
     "duration": 9.884402,
     "end_time": "2022-12-09T22:24:36.898335",
     "exception": false,
     "start_time": "2022-12-09T22:24:27.013933",
     "status": "completed"
    },
    "tags": []
   },
   "outputs": [],
   "source": [
    "#calculating days to delivery\n",
    "date= data.frame(data$delivery_date-data$payment_date)\n",
    "# appending days_to_deliver to data table\n",
    "data <- data %>%\n",
    "  add_column(Add_Column = date$data.delivery_date...data.payment_date)\n",
    "\n",
    "# renaming column\n",
    "names(data)[names(data) == \"Add_Column\"] = \"days_to_deliver\"\n",
    "# converting to numeric\n",
    "data$days_to_deliver <-as.numeric(as.character(data$days_to_deliver))"
   ]
  },
  {
   "cell_type": "code",
   "execution_count": 39,
   "id": "47690230",
   "metadata": {
    "execution": {
     "iopub.execute_input": "2022-12-09T22:24:36.924344Z",
     "iopub.status.busy": "2022-12-09T22:24:36.922918Z",
     "iopub.status.idle": "2022-12-09T22:24:36.933992Z",
     "shell.execute_reply": "2022-12-09T22:24:36.932510Z"
    },
    "papermill": {
     "duration": 0.027172,
     "end_time": "2022-12-09T22:24:36.936435",
     "exception": false,
     "start_time": "2022-12-09T22:24:36.909263",
     "status": "completed"
    },
    "tags": []
   },
   "outputs": [],
   "source": [
    "# library(caTools)\n",
    "\n",
    "# #make this example reproducible\n",
    "# set.seed(666)\n",
    "\n",
    "# #Use 70% of dataset as training set and remaining 30% as testing set\n",
    "# sample <- sample.split(train$days_to_deliver, SplitRatio = 0.7)\n",
    "# train_df  <- subset(train, sample == TRUE)\n",
    "# test_df   <- subset(train, sample == FALSE)"
   ]
  }
 ],
 "metadata": {
  "kernelspec": {
   "display_name": "R",
   "language": "R",
   "name": "ir"
  },
  "language_info": {
   "codemirror_mode": "r",
   "file_extension": ".r",
   "mimetype": "text/x-r-source",
   "name": "R",
   "pygments_lexer": "r",
   "version": "4.0.5"
  },
  "papermill": {
   "default_parameters": {},
   "duration": 702.877631,
   "end_time": "2022-12-09T22:24:37.774227",
   "environment_variables": {},
   "exception": null,
   "input_path": "__notebook__.ipynb",
   "output_path": "__notebook__.ipynb",
   "parameters": {},
   "start_time": "2022-12-09T22:12:54.896596",
   "version": "2.4.0"
  }
 },
 "nbformat": 4,
 "nbformat_minor": 5
}
